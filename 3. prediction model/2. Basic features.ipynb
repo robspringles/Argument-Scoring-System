{
 "cells": [
  {
   "cell_type": "markdown",
   "metadata": {},
   "source": [
    "# Extract basic features for score predicition model "
   ]
  },
  {
   "cell_type": "code",
   "execution_count": 1,
   "metadata": {
    "collapsed": true
   },
   "outputs": [],
   "source": [
    "# -*- coding: utf-8 -*-\n",
    "\n",
    "import matplotlib.pyplot as plt\n",
    "import numpy as np\n",
    "import pandas as pd"
   ]
  },
  {
   "cell_type": "markdown",
   "metadata": {},
   "source": [
    "## load test data "
   ]
  },
  {
   "cell_type": "code",
   "execution_count": 2,
   "metadata": {
    "collapsed": true
   },
   "outputs": [],
   "source": [
    "path = '/Users/apple/Documents/GitHub/Argument-Scoring-System/comment_data/comments.csv'"
   ]
  },
  {
   "cell_type": "code",
   "execution_count": 3,
   "metadata": {
    "collapsed": true
   },
   "outputs": [],
   "source": [
    "data = pd.read_csv(path)\n",
    "# remove none value \n",
    "new_data = data[np.isfinite(data['mean_evaluation'])]\n",
    "X = new_data['comment_text']\n",
    "y = new_data['mean_evaluation']"
   ]
  },
  {
   "cell_type": "markdown",
   "metadata": {},
   "source": [
    "## feature preparation "
   ]
  },
  {
   "cell_type": "markdown",
   "metadata": {},
   "source": [
    "* word count \n",
    "* spelling error count \n",
    "* paragraph count \n",
    "* sent count \n",
    "* average sentence length count \n",
    "* punctuation number \n",
    "* average sents in paragragh \n",
    "* average puncts in sents"
   ]
  },
  {
   "cell_type": "code",
   "execution_count": 4,
   "metadata": {
    "collapsed": true
   },
   "outputs": [],
   "source": [
    "import re\n",
    "from collections import Counter\n",
    "import language_check\n",
    "import nltk\n",
    "import math\n",
    "import re"
   ]
  },
  {
   "cell_type": "code",
   "execution_count": 5,
   "metadata": {
    "collapsed": true
   },
   "outputs": [],
   "source": [
    "def get_words(text):\n",
    "    ''' Get all the words in a text \n",
    "    :param text: raw text\n",
    "    :return: all the words in the text\n",
    "    Example: \n",
    "            print (get_words('I amd the .. . /3'))\n",
    "    '''\n",
    "    return re.findall(r'\\w+', text.lower())"
   ]
  },
  {
   "cell_type": "code",
   "execution_count": 6,
   "metadata": {
    "collapsed": true
   },
   "outputs": [],
   "source": [
    "# Get all the words in en-spelling.txt which contains most words in English dictionary\n",
    "# words.txt is from https://github.com/dwyl/english-words\n",
    "# WORDS = Counter(get_words(open('en-spelling.txt').read()))\n",
    "WORDS = Counter(get_words(open('words.txt').read()))"
   ]
  },
  {
   "cell_type": "code",
   "execution_count": 7,
   "metadata": {
    "collapsed": true
   },
   "outputs": [],
   "source": [
    "def get_spelling_error_number(text):\n",
    "    '''\n",
    "    1. Check if it is in the words.txt\n",
    "    2. Check if it is a number\n",
    "    Get the number of errors in the text. The spelling error defined here is the words not in en-spelling.txt\n",
    "    :param text: the raw text\n",
    "    :return: the number of spelling errors. \n",
    "    Example:\n",
    "            print (get_spelling_error_number(\"he kk uu in jsas ssssss\"))\n",
    "    '''\n",
    "    text_words = get_words(text)\n",
    "    error_numer = 0\n",
    "    for w in text_words:\n",
    "        if w not in WORDS:\n",
    "            if w.isdigit():\n",
    "                pass\n",
    "            else:\n",
    "                error_numer += 1\n",
    "#                 print (w)\n",
    "    return float(error_numer)"
   ]
  },
  {
   "cell_type": "code",
   "execution_count": 8,
   "metadata": {
    "collapsed": false
   },
   "outputs": [
    {
     "name": "stdout",
     "output_type": "stream",
     "text": [
      "Negative gearing may have seemed like a good idea when it was first introduced, but it has become little more than a massive rort.  The only reason we still have it after its problems have been pointed out so often is that politicians are under the thumb of the 20% who do most of the negative gearing and have the power to scream the loudest come election time.  It has no place in a just and efficient economic system.  \n"
     ]
    }
   ],
   "source": [
    "print (X[0])"
   ]
  },
  {
   "cell_type": "code",
   "execution_count": 9,
   "metadata": {
    "collapsed": true
   },
   "outputs": [],
   "source": [
    "def get_word_number(text):\n",
    "    '''\n",
    "    Get the number of words (including numbers) in the raw text \n",
    "    :param text: the raw text\n",
    "    :return: the number of words\n",
    "    Example: \n",
    "           print (get_word_number(\"this is a number 's \")) \n",
    "    '''\n",
    "    return float(len(re.findall(r'\\w+', text)))"
   ]
  },
  {
   "cell_type": "code",
   "execution_count": 10,
   "metadata": {
    "collapsed": true
   },
   "outputs": [],
   "source": [
    "# get paragraph number\n",
    "def get_para_number(text):\n",
    "    '''\n",
    "    Get the number of paragraphs.\n",
    "    :param text: the raw text.\n",
    "    :return: the number of paragraphs.\n",
    "    Example: \n",
    "            s = \"This is first. this is first. \\n This is sencond. \\n\\n this is third.\" \\\n",
    "            print (get_para_number(s))\n",
    "    '''\n",
    "    paraList = text.splitlines()\n",
    "    paraList[:] = [element for element in paraList if element != \"\"]\n",
    "    return len(paraList)"
   ]
  },
  {
   "cell_type": "code",
   "execution_count": 11,
   "metadata": {
    "collapsed": true
   },
   "outputs": [],
   "source": [
    "# get sent number \n",
    "def get_sent_number(text):\n",
    "    '''\n",
    "    Get the number of sentences in the text\n",
    "    :param text: the raw text\n",
    "    :return: the number of sentences \n",
    "    Example: \n",
    "            print (get_sent_number(\"This is number one. This ise number2, and number 2.\"))\n",
    "    '''\n",
    "    paraList = text.splitlines()\n",
    "    paraList[:] = [element for element in paraList if element != \"\"]\n",
    "    count = 0 \n",
    "    for t in paraList:\n",
    "        count = count + len(nltk.sent_tokenize(t))\n",
    "    return float(count)"
   ]
  },
  {
   "cell_type": "code",
   "execution_count": 12,
   "metadata": {
    "collapsed": true
   },
   "outputs": [],
   "source": [
    "# average sents number in paragraph \n",
    "def avg_sents_para(text):\n",
    "    sents_num = get_sent_number(text)\n",
    "    para_num = get_para_number(text)\n",
    "    return round(float(sents_num)/para_num ,2 )"
   ]
  },
  {
   "cell_type": "code",
   "execution_count": 13,
   "metadata": {
    "collapsed": true
   },
   "outputs": [],
   "source": [
    "# average word number in sents\n",
    "def avg_word_sents(text):\n",
    "    sents_num = get_sent_number(text)\n",
    "    word_num = get_word_number(text)\n",
    "    return round(float(word_num)/sents_num ,2 )"
   ]
  },
  {
   "cell_type": "code",
   "execution_count": 14,
   "metadata": {
    "collapsed": false
   },
   "outputs": [],
   "source": [
    "from string import punctuation\n",
    "from collections import Counter\n",
    "\n",
    "def get_punc_sent(text):\n",
    "    '''\n",
    "    Get the number of punctuation number in the raw text\n",
    "    :param text: the raw text\n",
    "    :return: the number of words   \n",
    "    '''\n",
    "    counts = Counter(text)\n",
    "    punctuation_counts = {k:v for k, v in counts.items() if k in punctuation}\n",
    "    count = 0\n",
    "    for k in punctuation_counts.keys():\n",
    "        count = count + punctuation_counts[k]\n",
    "    \n",
    "    return count \n",
    "        \n",
    "def get_punc_text(text):\n",
    "    paraList = text.splitlines()\n",
    "    paraList[:] = [element for element in paraList if element != \"\"]\n",
    "    count = 0 \n",
    "    for t in paraList:\n",
    "        count = count + get_punc_sent(t)\n",
    "    return count "
   ]
  },
  {
   "cell_type": "code",
   "execution_count": 15,
   "metadata": {
    "collapsed": true
   },
   "outputs": [],
   "source": [
    "# average punc number in sents \n",
    "def avg_puncts_sents(text):\n",
    "    puncts_num = get_punc_text(text)\n",
    "    sents_num = get_sent_number(text)\n",
    "    return round(float(puncts_num)/sents_num ,2 )\n"
   ]
  },
  {
   "cell_type": "code",
   "execution_count": 16,
   "metadata": {
    "collapsed": true
   },
   "outputs": [],
   "source": [
    "def features_summary(text):\n",
    "    values =  [\n",
    "        # text_grammar_check(text),\n",
    "        get_spelling_error_number(text),\n",
    "        get_word_number(text),\n",
    "        get_para_number(text),\n",
    "        get_sent_number(text),\n",
    "        avg_sents_para(text),\n",
    "        avg_word_sents(text),\n",
    "        get_punc_text(text),\n",
    "        avg_puncts_sents(text)\n",
    "    ]\n",
    "    return values"
   ]
  },
  {
   "cell_type": "code",
   "execution_count": 17,
   "metadata": {
    "collapsed": false
   },
   "outputs": [
    {
     "name": "stdout",
     "output_type": "stream",
     "text": [
      "[0.0, 79.0, 1, 3.0, 3.0, 26.33, 5, 1.67]\n"
     ]
    }
   ],
   "source": [
    "print (features_summary(X[0]))"
   ]
  },
  {
   "cell_type": "code",
   "execution_count": 18,
   "metadata": {
    "collapsed": true
   },
   "outputs": [],
   "source": [
    "X = [features_summary(item) for item in X]"
   ]
  },
  {
   "cell_type": "code",
   "execution_count": 2,
   "metadata": {
    "collapsed": false
   },
   "outputs": [],
   "source": [
    "import pickle"
   ]
  },
  {
   "cell_type": "code",
   "execution_count": 3,
   "metadata": {
    "collapsed": false
   },
   "outputs": [],
   "source": [
    "# Load data (deserialize)\n",
    "with open('argument_component.pickle', 'rb') as handle:\n",
    "    text_compo_dic = pickle.load(handle)"
   ]
  },
  {
   "cell_type": "code",
   "execution_count": null,
   "metadata": {
    "collapsed": true
   },
   "outputs": [],
   "source": []
  }
 ],
 "metadata": {
  "kernelspec": {
   "display_name": "Python 3",
   "language": "python",
   "name": "python3"
  },
  "language_info": {
   "codemirror_mode": {
    "name": "ipython",
    "version": 3
   },
   "file_extension": ".py",
   "mimetype": "text/x-python",
   "name": "python",
   "nbconvert_exporter": "python",
   "pygments_lexer": "ipython3",
   "version": "3.5.0"
  }
 },
 "nbformat": 4,
 "nbformat_minor": 0
}
