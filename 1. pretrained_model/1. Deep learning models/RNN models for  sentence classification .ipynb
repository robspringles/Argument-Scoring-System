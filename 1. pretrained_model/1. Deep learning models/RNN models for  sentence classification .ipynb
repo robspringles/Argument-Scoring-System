{
 "cells": [
  {
   "cell_type": "markdown",
   "metadata": {},
   "source": [
    "# RNN models for sentence classification "
   ]
  },
  {
   "cell_type": "markdown",
   "metadata": {},
   "source": [
    "* Simple LSTM for Sequence Classification\n",
    "* LSTM For Sequence Classification With Dropout\n",
    "* LSTM and Convolutional Neural Network For Sequence Classification"
   ]
  },
  {
   "cell_type": "markdown",
   "metadata": {},
   "source": [
    "## load data "
   ]
  },
  {
   "cell_type": "code",
   "execution_count": 1,
   "metadata": {
    "collapsed": false
   },
   "outputs": [],
   "source": [
    "import pickle \n",
    "with open('labeled_essay_dics.pickle', 'rb') as handle:\n",
    "    label_sents = pickle.load(handle)"
   ]
  },
  {
   "cell_type": "code",
   "execution_count": 2,
   "metadata": {
    "collapsed": true
   },
   "outputs": [],
   "source": [
    "# compute and store and the {sents: label} into one dic\n",
    "all_label_sents = {}\n",
    "for key in label_sents.keys():\n",
    "    this_essay = label_sents[key]\n",
    "    for s in this_essay.keys():\n",
    "        all_label_sents[s] = this_essay[s]"
   ]
  },
  {
   "cell_type": "markdown",
   "metadata": {},
   "source": [
    "## data preprocessing "
   ]
  },
  {
   "cell_type": "code",
   "execution_count": 3,
   "metadata": {
    "collapsed": true
   },
   "outputs": [],
   "source": [
    "import numpy as np\n",
    "import re\n",
    "import itertools\n",
    "from collections import Counter"
   ]
  },
  {
   "cell_type": "code",
   "execution_count": 4,
   "metadata": {
    "collapsed": true
   },
   "outputs": [],
   "source": [
    "\"\"\"\n",
    "Original taken from https://github.com/dennybritz/cnn-text-classification-tf\n",
    "\"\"\"\n",
    "\n",
    "\n",
    "def clean_str(string):\n",
    "    \"\"\"\n",
    "    Tokenization/string cleaning for all datasets except for SST.\n",
    "    Original taken from https://github.com/yoonkim/CNN_sentence/blob/master/process_data.py\n",
    "    \"\"\"\n",
    "    string = re.sub(r\"[^A-Za-z0-9(),!?\\'\\`]\", \" \", string)\n",
    "    string = re.sub(r\"\\'s\", \" \\'s\", string)\n",
    "    string = re.sub(r\"\\'ve\", \" \\'ve\", string)\n",
    "    string = re.sub(r\"n\\'t\", \" n\\'t\", string)\n",
    "    string = re.sub(r\"\\'re\", \" \\'re\", string)\n",
    "    string = re.sub(r\"\\'d\", \" \\'d\", string)\n",
    "    string = re.sub(r\"\\'ll\", \" \\'ll\", string)\n",
    "    string = re.sub(r\",\", \" , \", string)\n",
    "    string = re.sub(r\"!\", \" ! \", string)\n",
    "    string = re.sub(r\"\\(\", \" \\( \", string)\n",
    "    string = re.sub(r\"\\)\", \" \\) \", string)\n",
    "    string = re.sub(r\"\\?\", \" \\? \", string)\n",
    "    string = re.sub(r\"\\s{2,}\", \" \", string)\n",
    "    return string.strip().lower()"
   ]
  },
  {
   "cell_type": "code",
   "execution_count": 5,
   "metadata": {
    "collapsed": true
   },
   "outputs": [],
   "source": [
    "def clear_split_str(s):\n",
    "    strip_s = s.strip()\n",
    "    clear_s = clean_str(strip_s)\n",
    "    s_text = clear_s.split(\" \")\n",
    "    return s_text"
   ]
  },
  {
   "cell_type": "code",
   "execution_count": 6,
   "metadata": {
    "collapsed": true
   },
   "outputs": [],
   "source": [
    "texts = []\n",
    "for key in all_label_sents.keys():\n",
    "    this_value = all_label_sents[key]\n",
    "    clear_key = clear_split_str(key)\n",
    "    texts = texts + clear_key"
   ]
  },
  {
   "cell_type": "code",
   "execution_count": 7,
   "metadata": {
    "collapsed": false
   },
   "outputs": [
    {
     "name": "stdout",
     "output_type": "stream",
     "text": [
      "7701\n"
     ]
    }
   ],
   "source": [
    "print (len(set(texts)))"
   ]
  },
  {
   "cell_type": "code",
   "execution_count": 8,
   "metadata": {
    "collapsed": false
   },
   "outputs": [],
   "source": [
    "## >> ? need to choose the top 5000 words here \n",
    "# from nltk import FreqDist\n",
    "# fdist1 = FreqDist(texts)\n",
    "# texts = [w for w in fdist1 if fdist1[w] > 10]\n",
    "# # print (texts)\n",
    "# print (len(texts))"
   ]
  },
  {
   "cell_type": "code",
   "execution_count": 9,
   "metadata": {
    "collapsed": false
   },
   "outputs": [],
   "source": [
    "vocab = sorted(set(texts))\n",
    "vocab_to_int = {c: i for i, c in enumerate(vocab)}\n",
    "int_to_vocab = dict(enumerate(vocab))"
   ]
  },
  {
   "cell_type": "code",
   "execution_count": 10,
   "metadata": {
    "collapsed": false
   },
   "outputs": [
    {
     "name": "stdout",
     "output_type": "stream",
     "text": [
      "707\n"
     ]
    }
   ],
   "source": [
    "print (vocab_to_int['because'])"
   ]
  },
  {
   "cell_type": "code",
   "execution_count": 11,
   "metadata": {
    "collapsed": true
   },
   "outputs": [],
   "source": [
    "def encoded_txt(text):\n",
    "    return np.array([vocab_to_int[c] for c in text], dtype=np.int32)"
   ]
  },
  {
   "cell_type": "code",
   "execution_count": 12,
   "metadata": {
    "collapsed": true
   },
   "outputs": [],
   "source": [
    "## >> remove low frequency words \n",
    "# def encoded_txt(text):\n",
    "#     test = []\n",
    "#     for item in text:\n",
    "#         if item in vocab_to_int:\n",
    "#             test.append(vocab_to_int[item])\n",
    "#     return np.array(test)"
   ]
  },
  {
   "cell_type": "code",
   "execution_count": 13,
   "metadata": {
    "collapsed": false
   },
   "outputs": [],
   "source": [
    "# clear data and store in one dictionary\n",
    "X = []\n",
    "encode_X = []\n",
    "y = []\n",
    "for key in all_label_sents.keys():\n",
    "    this_value = all_label_sents[key]\n",
    "    clear_key = clear_split_str(key)\n",
    "    X.append(clear_key)\n",
    "    encode_X.append(encoded_txt(clear_key))\n",
    "    y.append(this_value)"
   ]
  },
  {
   "cell_type": "code",
   "execution_count": 14,
   "metadata": {
    "collapsed": false
   },
   "outputs": [
    {
     "name": "stdout",
     "output_type": "stream",
     "text": [
      "['Premise', 'Premise', 'MajorClaim', 'Premise', 'MajorClaim', 'Premise', 'Premise', 'Premise', 'Premise', 'Premise', 'Empty', 'Premise', 'Premise', 'MajorClaim', 'Premise', 'Empty', 'Premise', 'Premise', 'Premise', 'Premise', 'Premise', 'Empty', 'MajorClaim', 'Premise', 'Claim', 'Claim', 'MajorClaim', 'Premise', 'Claim', 'Empty', 'Empty', 'MajorClaim', 'Premise', 'MajorClaim', 'Empty', 'MajorClaim', 'Claim', 'Empty', 'Premise', 'Claim', 'Empty', 'Premise', 'Premise', 'Premise', 'Premise', 'Empty', 'Premise', 'Claim', 'Empty', 'Empty', 'Empty', 'Claim', 'Claim', 'Claim', 'Empty', 'Premise', 'Premise', 'Premise', 'Claim', 'MajorClaim', 'Premise', 'Claim', 'Empty', 'Premise', 'Premise', 'Claim', 'Claim', 'Premise', 'Claim', 'Premise', 'Premise', 'Empty', 'Premise', 'Empty', 'Empty', 'Empty', 'Premise', 'Claim', 'Empty', 'Premise', 'Premise', 'Claim', 'Premise', 'Premise', 'MajorClaim', 'Premise', 'Premise', 'Empty', 'Empty', 'Empty', 'Premise', 'Premise', 'Claim', 'Premise', 'Premise', 'Claim', 'Empty', 'Empty', 'Premise']\n"
     ]
    }
   ],
   "source": [
    "print (y[1:100])"
   ]
  },
  {
   "cell_type": "code",
   "execution_count": 15,
   "metadata": {
    "collapsed": false
   },
   "outputs": [],
   "source": [
    "encode_y = []\n",
    "for s in y:\n",
    "    if s == 'Claim':\n",
    "        encode_y.append([1,0,0,0])\n",
    "    elif s == 'Premise':\n",
    "        encode_y.append([0,1,0,0])\n",
    "    elif s == 'Empty':\n",
    "        encode_y.append([0,0,1,0])\n",
    "    else: \n",
    "        encode_y.append([0,0,0,1])"
   ]
  },
  {
   "cell_type": "code",
   "execution_count": 16,
   "metadata": {
    "collapsed": false
   },
   "outputs": [],
   "source": [
    "length = int(len(X) * 0.9)\n",
    "X_train = encode_X[0:length]\n",
    "y_train = encode_y[0:length]\n",
    "X_test = encode_X[length:]\n",
    "y_test = encode_y[length:]"
   ]
  },
  {
   "cell_type": "code",
   "execution_count": 17,
   "metadata": {
    "collapsed": false
   },
   "outputs": [
    {
     "name": "stdout",
     "output_type": "stream",
     "text": [
      "6369 6369 708 708\n"
     ]
    }
   ],
   "source": [
    "print (len(X_train), len(y_train), len(X_test), len(y_test))"
   ]
  },
  {
   "cell_type": "code",
   "execution_count": 18,
   "metadata": {
    "collapsed": false
   },
   "outputs": [
    {
     "name": "stdout",
     "output_type": "stream",
     "text": [
      "[6684 2243 5491 3306 7598 7322 3953  400 3633] [0, 1, 0, 0]\n",
      "[6684 2243 5491 3306 7598 7322 3953  400 3633] [0, 1, 0, 0]\n"
     ]
    }
   ],
   "source": [
    "print (encode_X[1000], encode_y[1000])\n",
    "print (X_train[1000], y_train[1000])"
   ]
  },
  {
   "cell_type": "code",
   "execution_count": 19,
   "metadata": {
    "collapsed": false
   },
   "outputs": [
    {
     "name": "stdout",
     "output_type": "stream",
     "text": [
      "max sentence length is: 72\n"
     ]
    }
   ],
   "source": [
    "max_lenth = 0\n",
    "for item in X:\n",
    "    if len(item) > max_lenth:\n",
    "        max_lenth = len(item)\n",
    "\n",
    "print (\"max sentence length is: \" + str(max_lenth))"
   ]
  },
  {
   "cell_type": "code",
   "execution_count": null,
   "metadata": {
    "collapsed": false
   },
   "outputs": [],
   "source": []
  },
  {
   "cell_type": "markdown",
   "metadata": {},
   "source": [
    "## Simple LSTM for Sequence Classification"
   ]
  },
  {
   "cell_type": "code",
   "execution_count": 20,
   "metadata": {
    "collapsed": false
   },
   "outputs": [
    {
     "name": "stderr",
     "output_type": "stream",
     "text": [
      "Using TensorFlow backend.\n"
     ]
    }
   ],
   "source": [
    "import numpy\n",
    "# from keras.datasets import imdb\n",
    "from keras.models import Sequential\n",
    "from keras.layers import Dense\n",
    "from keras.layers import LSTM\n",
    "from keras.layers.embeddings import Embedding\n",
    "from keras.preprocessing import sequence\n",
    "# fix random seed for reproducibility\n",
    "numpy.random.seed(7)"
   ]
  },
  {
   "cell_type": "code",
   "execution_count": 21,
   "metadata": {
    "collapsed": true
   },
   "outputs": [],
   "source": [
    "# truncate and pad input sequences\n",
    "max_sent_length = 72\n",
    "X_train = sequence.pad_sequences(X_train, maxlen=max_sent_length)\n",
    "X_test = sequence.pad_sequences(X_test, maxlen=max_sent_length)"
   ]
  },
  {
   "cell_type": "code",
   "execution_count": 22,
   "metadata": {
    "collapsed": true
   },
   "outputs": [],
   "source": [
    "# load the dataset but only keep the top n words, zero the rest\n",
    "# top_words = 7701\n",
    "top_words = len(vocab)\n",
    "# (X_train, y_train), (X_test, y_test) = imdb.load_data(num_words=top_words)"
   ]
  },
  {
   "cell_type": "code",
   "execution_count": 23,
   "metadata": {
    "collapsed": false
   },
   "outputs": [
    {
     "name": "stdout",
     "output_type": "stream",
     "text": [
      "_________________________________________________________________\n",
      "Layer (type)                 Output Shape              Param #   \n",
      "=================================================================\n",
      "embedding_1 (Embedding)      (None, 72, 32)            246432    \n",
      "_________________________________________________________________\n",
      "lstm_1 (LSTM)                (None, 100)               53200     \n",
      "_________________________________________________________________\n",
      "dense_1 (Dense)              (None, 4)                 404       \n",
      "=================================================================\n",
      "Total params: 300,036\n",
      "Trainable params: 300,036\n",
      "Non-trainable params: 0\n",
      "_________________________________________________________________\n",
      "None\n",
      "Train on 6369 samples, validate on 708 samples\n",
      "Epoch 1/3\n",
      "6369/6369 [==============================] - 31s - loss: 0.5269 - acc: 0.7459 - val_loss: 0.5055 - val_acc: 0.7521\n",
      "Epoch 2/3\n",
      "6369/6369 [==============================] - 31s - loss: 0.4743 - acc: 0.7892 - val_loss: 0.4647 - val_acc: 0.7835\n",
      "Epoch 3/3\n",
      "6369/6369 [==============================] - 31s - loss: 0.3911 - acc: 0.8280 - val_loss: 0.4100 - val_acc: 0.8100\n"
     ]
    },
    {
     "data": {
      "text/plain": [
       "<keras.callbacks.History at 0x116308ef0>"
      ]
     },
     "execution_count": 23,
     "metadata": {},
     "output_type": "execute_result"
    }
   ],
   "source": [
    "# create the model\n",
    "embedding_vecor_length = 32\n",
    "model1 = Sequential()\n",
    "model1.add(Embedding(top_words, embedding_vecor_length, input_length=max_sent_length))\n",
    "model1.add(LSTM(100))\n",
    "model1.add(Dense(4, activation='sigmoid'))\n",
    "model1.compile(loss='binary_crossentropy', optimizer='adam', metrics=['accuracy'])\n",
    "print(model1.summary())\n",
    "model1.fit(X_train, y_train, validation_data=(X_test, y_test), epochs=3, batch_size=64)"
   ]
  },
  {
   "cell_type": "code",
   "execution_count": 24,
   "metadata": {
    "collapsed": false
   },
   "outputs": [
    {
     "name": "stdout",
     "output_type": "stream",
     "text": [
      "Accuracy: 81.00%\n"
     ]
    }
   ],
   "source": [
    "# Final evaluation of the model\n",
    "scores = model1.evaluate(X_test, y_test, verbose=0)\n",
    "print(\"Accuracy: %.2f%%\" % (scores[1]*100))"
   ]
  },
  {
   "cell_type": "markdown",
   "metadata": {},
   "source": [
    "## 2. LSTM For Sequence Classification With Dropout"
   ]
  },
  {
   "cell_type": "code",
   "execution_count": 25,
   "metadata": {
    "collapsed": false
   },
   "outputs": [
    {
     "name": "stdout",
     "output_type": "stream",
     "text": [
      "_________________________________________________________________\n",
      "Layer (type)                 Output Shape              Param #   \n",
      "=================================================================\n",
      "embedding_2 (Embedding)      (None, 72, 32)            246432    \n",
      "_________________________________________________________________\n",
      "dropout_1 (Dropout)          (None, 72, 32)            0         \n",
      "_________________________________________________________________\n",
      "lstm_2 (LSTM)                (None, 100)               53200     \n",
      "_________________________________________________________________\n",
      "dropout_2 (Dropout)          (None, 100)               0         \n",
      "_________________________________________________________________\n",
      "dense_2 (Dense)              (None, 4)                 404       \n",
      "=================================================================\n",
      "Total params: 300,036\n",
      "Trainable params: 300,036\n",
      "Non-trainable params: 0\n",
      "_________________________________________________________________\n",
      "None\n",
      "Epoch 1/3\n",
      "6369/6369 [==============================] - 33s - loss: 0.5307 - acc: 0.7444    \n",
      "Epoch 2/3\n",
      "6369/6369 [==============================] - 34s - loss: 0.4822 - acc: 0.7771    \n",
      "Epoch 3/3\n",
      "6369/6369 [==============================] - 33s - loss: 0.4025 - acc: 0.8250    \n",
      "Accuracy: 82.10%\n"
     ]
    }
   ],
   "source": [
    "from keras.layers import Dropout\n",
    "model2 = Sequential()\n",
    "model2.add(Embedding(top_words, embedding_vecor_length, input_length=max_sent_length))\n",
    "model2.add(Dropout(0.2))\n",
    "model2.add(LSTM(100))\n",
    "model2.add(Dropout(0.2))\n",
    "model2.add(Dense(4, activation='sigmoid'))\n",
    "model2.compile(loss='binary_crossentropy', optimizer='adam', metrics=['accuracy'])\n",
    "print(model2.summary())\n",
    "model2.fit(X_train, y_train, epochs=3, batch_size=64)\n",
    "# Final evaluation of the model\n",
    "scores2 = model2.evaluate(X_test, y_test, verbose=0)\n",
    "print(\"Accuracy: %.2f%%\" % (scores2[1]*100))"
   ]
  },
  {
   "cell_type": "markdown",
   "metadata": {},
   "source": [
    "## LSTM and Convolutional Neural Network For Sequence Classification"
   ]
  },
  {
   "cell_type": "code",
   "execution_count": 26,
   "metadata": {
    "collapsed": true
   },
   "outputs": [],
   "source": [
    "from keras.layers.convolutional import Conv1D\n",
    "from keras.layers.convolutional import MaxPooling1D"
   ]
  },
  {
   "cell_type": "code",
   "execution_count": 27,
   "metadata": {
    "collapsed": false
   },
   "outputs": [
    {
     "name": "stdout",
     "output_type": "stream",
     "text": [
      "_________________________________________________________________\n",
      "Layer (type)                 Output Shape              Param #   \n",
      "=================================================================\n",
      "embedding_3 (Embedding)      (None, 72, 32)            246432    \n",
      "_________________________________________________________________\n",
      "conv1d_1 (Conv1D)            (None, 72, 32)            3104      \n",
      "_________________________________________________________________\n",
      "max_pooling1d_1 (MaxPooling1 (None, 36, 32)            0         \n",
      "_________________________________________________________________\n",
      "lstm_3 (LSTM)                (None, 100)               53200     \n",
      "_________________________________________________________________\n",
      "dense_3 (Dense)              (None, 4)                 404       \n",
      "=================================================================\n",
      "Total params: 303,140\n",
      "Trainable params: 303,140\n",
      "Non-trainable params: 0\n",
      "_________________________________________________________________\n",
      "None\n",
      "Epoch 1/3\n",
      "6369/6369 [==============================] - 19s - loss: 0.5311 - acc: 0.7454    \n",
      "Epoch 2/3\n",
      "6369/6369 [==============================] - 16s - loss: 0.4454 - acc: 0.7971    \n",
      "Epoch 3/3\n",
      "6369/6369 [==============================] - 15s - loss: 0.3569 - acc: 0.8431    \n",
      "Accuracy: 81.99%\n"
     ]
    }
   ],
   "source": [
    "# create the model\n",
    "embedding_vecor_length = 32\n",
    "model3 = Sequential()\n",
    "model3.add(Embedding(top_words, embedding_vecor_length, input_length=max_sent_length))\n",
    "model3.add(Conv1D(filters=32, kernel_size=3, padding='same', activation='relu'))\n",
    "model3.add(MaxPooling1D(pool_size=2))\n",
    "model3.add(LSTM(100))\n",
    "model3.add(Dense(4, activation='sigmoid'))\n",
    "model3.compile(loss='binary_crossentropy', optimizer='adam', metrics=['accuracy'])\n",
    "print(model3.summary())\n",
    "model3.fit(X_train, y_train, epochs=3, batch_size=64)\n",
    "# Final evaluation of the model\n",
    "scores3 = model3.evaluate(X_test, y_test, verbose=0)\n",
    "print(\"Accuracy: %.2f%%\" % (scores3[1]*100))"
   ]
  },
  {
   "cell_type": "code",
   "execution_count": 28,
   "metadata": {
    "collapsed": true
   },
   "outputs": [],
   "source": [
    "ttt = model3.predict(X_test)"
   ]
  },
  {
   "cell_type": "code",
   "execution_count": 29,
   "metadata": {
    "collapsed": false
   },
   "outputs": [],
   "source": [
    "# print (y_test)"
   ]
  },
  {
   "cell_type": "code",
   "execution_count": null,
   "metadata": {
    "collapsed": true
   },
   "outputs": [],
   "source": []
  },
  {
   "cell_type": "code",
   "execution_count": null,
   "metadata": {
    "collapsed": true
   },
   "outputs": [],
   "source": []
  },
  {
   "cell_type": "markdown",
   "metadata": {},
   "source": [
    "## CNN model"
   ]
  },
  {
   "cell_type": "code",
   "execution_count": 46,
   "metadata": {
    "collapsed": true
   },
   "outputs": [],
   "source": [
    "from keras.layers import Dense, Dropout, Flatten, Input, MaxPooling1D, Convolution1D, Embedding\n",
    "from keras.layers.merge import Concatenate\n",
    "from keras.models import Sequential, Model"
   ]
  },
  {
   "cell_type": "code",
   "execution_count": 47,
   "metadata": {
    "collapsed": true
   },
   "outputs": [],
   "source": [
    "# Model Hyperparameters\n",
    "embedding_dim = 300\n",
    "filter_sizes = (3, 8)\n",
    "num_filters = 10\n",
    "dropout_prob = (0.5, 0.8)\n",
    "hidden_dims = 50\n",
    "\n",
    "# Training parameters\n",
    "batch_size = 64\n",
    "num_epochs = 10\n",
    "\n",
    "# Prepossessing parameters\n",
    "sequence_length = 72\n",
    "max_words = 5000"
   ]
  },
  {
   "cell_type": "code",
   "execution_count": 48,
   "metadata": {
    "collapsed": false
   },
   "outputs": [],
   "source": [
    "\n",
    "input_shape = (sequence_length,)\n",
    "model_input = Input(shape=input_shape)"
   ]
  },
  {
   "cell_type": "code",
   "execution_count": 49,
   "metadata": {
    "collapsed": false
   },
   "outputs": [],
   "source": [
    "z = Embedding(top_words, embedding_vecor_length, input_length=max_sent_length)(model_input)"
   ]
  },
  {
   "cell_type": "code",
   "execution_count": 50,
   "metadata": {
    "collapsed": true
   },
   "outputs": [],
   "source": [
    "z = Dropout(dropout_prob[0])(z)"
   ]
  },
  {
   "cell_type": "code",
   "execution_count": 51,
   "metadata": {
    "collapsed": true
   },
   "outputs": [],
   "source": [
    "# Convolutional block\n",
    "conv_blocks = []\n",
    "for sz in filter_sizes:\n",
    "    conv = Convolution1D(filters=num_filters,\n",
    "                         kernel_size=sz,\n",
    "                         padding=\"valid\",\n",
    "                         activation=\"relu\",\n",
    "                         strides=1)(z)\n",
    "    conv = MaxPooling1D(pool_size=2)(conv)\n",
    "    conv = Flatten()(conv)\n",
    "    conv_blocks.append(conv)"
   ]
  },
  {
   "cell_type": "code",
   "execution_count": 52,
   "metadata": {
    "collapsed": false
   },
   "outputs": [],
   "source": [
    "z = Concatenate()(conv_blocks) if len(conv_blocks) > 1 else conv_blocks[0]\n",
    "\n",
    "z = Dropout(dropout_prob[1])(z)\n",
    "z = Dense(hidden_dims, activation=\"relu\")(z)\n",
    "model_output = Dense(4, activation=\"sigmoid\")(z)\n",
    "\n",
    "model4 = Model(model_input, model_output)\n",
    "model4.compile(loss=\"binary_crossentropy\", optimizer=\"adam\", metrics=[\"accuracy\"])"
   ]
  },
  {
   "cell_type": "code",
   "execution_count": 53,
   "metadata": {
    "collapsed": false
   },
   "outputs": [
    {
     "name": "stdout",
     "output_type": "stream",
     "text": [
      "Train on 6369 samples, validate on 708 samples\n",
      "Epoch 1/10\n",
      "2s - loss: 0.5302 - acc: 0.7458 - val_loss: 0.5015 - val_acc: 0.7500\n",
      "Epoch 2/10\n",
      "2s - loss: 0.4944 - acc: 0.7579 - val_loss: 0.4805 - val_acc: 0.7698\n",
      "Epoch 3/10\n",
      "2s - loss: 0.4710 - acc: 0.7778 - val_loss: 0.4544 - val_acc: 0.7977\n",
      "Epoch 4/10\n",
      "2s - loss: 0.4281 - acc: 0.8101 - val_loss: 0.4256 - val_acc: 0.8104\n",
      "Epoch 5/10\n",
      "2s - loss: 0.3849 - acc: 0.8330 - val_loss: 0.4116 - val_acc: 0.8136\n",
      "Epoch 6/10\n",
      "2s - loss: 0.3539 - acc: 0.8460 - val_loss: 0.4175 - val_acc: 0.8139\n",
      "Epoch 7/10\n",
      "2s - loss: 0.3349 - acc: 0.8510 - val_loss: 0.4192 - val_acc: 0.8146\n",
      "Epoch 8/10\n",
      "2s - loss: 0.3133 - acc: 0.8608 - val_loss: 0.4332 - val_acc: 0.8118\n",
      "Epoch 9/10\n",
      "2s - loss: 0.3008 - acc: 0.8666 - val_loss: 0.4384 - val_acc: 0.8121\n",
      "Epoch 10/10\n",
      "2s - loss: 0.2850 - acc: 0.8716 - val_loss: 0.4600 - val_acc: 0.8026\n"
     ]
    },
    {
     "data": {
      "text/plain": [
       "<keras.callbacks.History at 0x1214772e8>"
      ]
     },
     "execution_count": 53,
     "metadata": {},
     "output_type": "execute_result"
    }
   ],
   "source": [
    "# Train the model\n",
    "model4.fit(X_train, y_train, batch_size=batch_size, epochs=num_epochs,\n",
    "          validation_data=(X_test, y_test), verbose=2)"
   ]
  },
  {
   "cell_type": "code",
   "execution_count": 54,
   "metadata": {
    "collapsed": false
   },
   "outputs": [
    {
     "name": "stdout",
     "output_type": "stream",
     "text": [
      "Accuracy: 80.26%\n"
     ]
    }
   ],
   "source": [
    "scores4 = model4.evaluate(X_test, y_test, verbose=0)\n",
    "print(\"Accuracy: %.2f%%\" % (scores4[1]*100))"
   ]
  },
  {
   "cell_type": "code",
   "execution_count": null,
   "metadata": {
    "collapsed": true
   },
   "outputs": [],
   "source": []
  },
  {
   "cell_type": "markdown",
   "metadata": {},
   "source": [
    "## comment data preprocessing"
   ]
  },
  {
   "cell_type": "markdown",
   "metadata": {},
   "source": [
    "* clear labeled data into sentence vectors \n",
    "* clear comment data into sentence vectors"
   ]
  },
  {
   "cell_type": "code",
   "execution_count": 38,
   "metadata": {
    "collapsed": true
   },
   "outputs": [],
   "source": [
    "# build a preprocessing function "
   ]
  },
  {
   "cell_type": "code",
   "execution_count": 39,
   "metadata": {
    "collapsed": true
   },
   "outputs": [],
   "source": [
    "def sent2vec(sent):\n",
    "    text = clear_split_str(sent)\n",
    "    return np.array([vocab_to_int[c] for c in text if c in vocab_to_int], dtype=np.int32)"
   ]
  },
  {
   "cell_type": "code",
   "execution_count": 40,
   "metadata": {
    "collapsed": true
   },
   "outputs": [],
   "source": [
    "def sent_labels(s):\n",
    "    this_label = []\n",
    "    if s == 'Claim':\n",
    "        this_label = [1,0,0,0]\n",
    "    elif s == 'Premise':\n",
    "        this_label = [0,1,0,0]\n",
    "    elif s == 'Empty':\n",
    "        this_label = [0,0,1,0]\n",
    "    else: \n",
    "        this_label = [0,0,0,1]\n",
    "    return this_label"
   ]
  },
  {
   "cell_type": "markdown",
   "metadata": {},
   "source": [
    "## load comment data "
   ]
  },
  {
   "cell_type": "code",
   "execution_count": 41,
   "metadata": {
    "collapsed": true
   },
   "outputs": [],
   "source": [
    "# load labeled comment data\n",
    "import pandas as pd"
   ]
  },
  {
   "cell_type": "code",
   "execution_count": 42,
   "metadata": {
    "collapsed": false
   },
   "outputs": [],
   "source": [
    "comment_path = 'comment_sent.csv'\n",
    "label_comments_data = pd.read_csv(comment_path,encoding = \"ISO-8859-1\")\n",
    "label_sents = label_comments_data['sentence']\n",
    "label_components = label_comments_data['label']"
   ]
  },
  {
   "cell_type": "code",
   "execution_count": 43,
   "metadata": {
    "collapsed": false
   },
   "outputs": [],
   "source": [
    "path = 'comments.csv'\n",
    "data = pd.read_csv(path)"
   ]
  },
  {
   "cell_type": "code",
   "execution_count": 44,
   "metadata": {
    "collapsed": true
   },
   "outputs": [],
   "source": [
    "texts = data['comment_text']\n",
    "comment_scores = data['mean_evaluation']"
   ]
  },
  {
   "cell_type": "code",
   "execution_count": 45,
   "metadata": {
    "collapsed": false
   },
   "outputs": [
    {
     "name": "stdout",
     "output_type": "stream",
     "text": [
      "2868\n"
     ]
    }
   ],
   "source": [
    "print (len(comment_scores))"
   ]
  },
  {
   "cell_type": "markdown",
   "metadata": {},
   "source": [
    "## fit the model on the labeled data "
   ]
  },
  {
   "cell_type": "code",
   "execution_count": 47,
   "metadata": {
    "collapsed": true
   },
   "outputs": [],
   "source": [
    "# generating vectors \n",
    "new_X = [sent2vec(item) for item in label_sents]\n",
    "new_X = sequence.pad_sequences(new_X, maxlen=max_sent_length)\n",
    "new_y = [sent_labels(item) for item in label_components]"
   ]
  },
  {
   "cell_type": "code",
   "execution_count": 48,
   "metadata": {
    "collapsed": true
   },
   "outputs": [],
   "source": [
    "new_X_train = new_X[0:50]\n",
    "new_y_train = new_y[0:50]\n",
    "new_X_test = new_X[50:]\n",
    "new_y_test = new_y[50:]"
   ]
  },
  {
   "cell_type": "markdown",
   "metadata": {},
   "source": [
    "## predict the component of sentences in comments "
   ]
  },
  {
   "cell_type": "code",
   "execution_count": 49,
   "metadata": {
    "collapsed": false
   },
   "outputs": [
    {
     "name": "stdout",
     "output_type": "stream",
     "text": [
      "Accuracy: 70.41%\n"
     ]
    }
   ],
   "source": [
    "# predict with the original model\n",
    "# calculate the accuracy\n",
    "# Final evaluation of the model\n",
    "scores = model1.evaluate(new_X_test, new_y_test, verbose=0)\n",
    "print(\"Accuracy: %.2f%%\" % (scores[1]*100))"
   ]
  },
  {
   "cell_type": "code",
   "execution_count": 50,
   "metadata": {
    "collapsed": false
   },
   "outputs": [
    {
     "name": "stdout",
     "output_type": "stream",
     "text": [
      "Train on 50 samples, validate on 49 samples\n",
      "Epoch 1/3\n",
      "50/50 [==============================] - 0s - loss: 0.6594 - acc: 0.7250 - val_loss: 0.5888 - val_acc: 0.7143\n",
      "Epoch 2/3\n",
      "50/50 [==============================] - 0s - loss: 0.5424 - acc: 0.7450 - val_loss: 0.6151 - val_acc: 0.7296\n",
      "Epoch 3/3\n",
      "50/50 [==============================] - 0s - loss: 0.5174 - acc: 0.7250 - val_loss: 0.6503 - val_acc: 0.7245\n",
      "Accuracy: 72.45%\n"
     ]
    }
   ],
   "source": [
    "# predit with the fitted model \n",
    "# calculate the accuracy \n",
    "model1.fit(new_X_train, new_y_train, validation_data=(new_X_test, new_y_test), epochs=3, batch_size=64)\n",
    "\n",
    "# Final evaluation of the model\n",
    "scores = model1.evaluate(new_X_test, new_y_test, verbose=0)\n",
    "print(\"Accuracy: %.2f%%\" % (scores[1]*100))"
   ]
  },
  {
   "cell_type": "code",
   "execution_count": null,
   "metadata": {
    "collapsed": true
   },
   "outputs": [],
   "source": []
  },
  {
   "cell_type": "code",
   "execution_count": 100,
   "metadata": {
    "collapsed": false
   },
   "outputs": [
    {
     "name": "stdout",
     "output_type": "stream",
     "text": [
      "Train on 50 samples, validate on 49 samples\n",
      "Epoch 1/3\n",
      "50/50 [==============================] - 0s - loss: 0.8174 - acc: 0.6850 - val_loss: 0.6837 - val_acc: 0.6888\n",
      "Epoch 2/3\n",
      "50/50 [==============================] - 0s - loss: 0.6865 - acc: 0.7050 - val_loss: 0.5793 - val_acc: 0.6888\n",
      "Epoch 3/3\n",
      "50/50 [==============================] - 0s - loss: 0.5250 - acc: 0.7300 - val_loss: 0.5946 - val_acc: 0.7449\n",
      "Accuracy: 74.49%\n"
     ]
    }
   ],
   "source": [
    "# predit with the fitted model \n",
    "# calculate the accuracy \n",
    "model2.fit(new_X_train, new_y_train, validation_data=(new_X_test, new_y_test), epochs=3, batch_size=64)\n",
    "\n",
    "# Final evaluation of the model\n",
    "scores = model2.evaluate(new_X_test, new_y_test, verbose=0)\n",
    "print(\"Accuracy: %.2f%%\" % (scores[1]*100))"
   ]
  },
  {
   "cell_type": "code",
   "execution_count": null,
   "metadata": {
    "collapsed": true
   },
   "outputs": [],
   "source": []
  },
  {
   "cell_type": "code",
   "execution_count": 115,
   "metadata": {
    "collapsed": false
   },
   "outputs": [
    {
     "name": "stdout",
     "output_type": "stream",
     "text": [
      "Train on 50 samples, validate on 49 samples\n",
      "Epoch 1/3\n",
      "50/50 [==============================] - 0s - loss: 0.9922 - acc: 0.6650 - val_loss: 0.8096 - val_acc: 0.6633\n",
      "Epoch 2/3\n",
      "50/50 [==============================] - 0s - loss: 0.8915 - acc: 0.6800 - val_loss: 0.7753 - val_acc: 0.6735\n",
      "Epoch 3/3\n",
      "50/50 [==============================] - 0s - loss: 0.8717 - acc: 0.6950 - val_loss: 0.7368 - val_acc: 0.6888\n",
      "Accuracy: 68.88%\n"
     ]
    }
   ],
   "source": [
    "# predit with the fitted model \n",
    "# calculate the accuracy \n",
    "model4.fit(new_X_train, new_y_train, validation_data=(new_X_test, new_y_test), epochs=3, batch_size=64)\n",
    "\n",
    "# Final evaluation of the model\n",
    "scores4 = model4.evaluate(new_X_test, new_y_test, verbose=0)\n",
    "print(\"Accuracy: %.2f%%\" % (scores4[1]*100))"
   ]
  },
  {
   "cell_type": "code",
   "execution_count": null,
   "metadata": {
    "collapsed": true
   },
   "outputs": [],
   "source": []
  },
  {
   "cell_type": "markdown",
   "metadata": {},
   "source": [
    "## generate a vector of components for each comments"
   ]
  },
  {
   "cell_type": "code",
   "execution_count": 51,
   "metadata": {
    "collapsed": true
   },
   "outputs": [],
   "source": [
    "import operator\n",
    "def get_max_index(vector):\n",
    "    max_value = max(vector)\n",
    "    for i in range(4):\n",
    "        if max_value == vector[i]:\n",
    "            return i"
   ]
  },
  {
   "cell_type": "code",
   "execution_count": 52,
   "metadata": {
    "collapsed": true
   },
   "outputs": [],
   "source": [
    "# write a function to generate the vector for each components of comments \n",
    "from nltk.tokenize import sent_tokenize\n",
    "def components_text(text):\n",
    "    sents = sent_tokenize(text)\n",
    "    sents_vector = [sent2vec(s) for s in sents]\n",
    "    sents_vector = sequence.pad_sequences(sents_vector, maxlen=max_sent_length)\n",
    "#     change the deep learning model here\n",
    "    components = model4.predict(sents_vector)\n",
    "    return components"
   ]
  },
  {
   "cell_type": "code",
   "execution_count": 53,
   "metadata": {
    "collapsed": true
   },
   "outputs": [],
   "source": [
    "# return the argument components of a comment \n",
    "def get_components(text):\n",
    "    vectors = components_text(text)\n",
    "    components = [get_max_index(v) for v in vectors]\n",
    "    return components"
   ]
  },
  {
   "cell_type": "code",
   "execution_count": 54,
   "metadata": {
    "collapsed": true
   },
   "outputs": [],
   "source": [
    "# return the number of words for every sentence \n",
    "def sent_words(text):\n",
    "    sents = sent_tokenize(text)\n",
    "    word_count = []\n",
    "    for s in sents:\n",
    "        word_count.append(len(s))\n",
    "    return word_count"
   ]
  },
  {
   "cell_type": "code",
   "execution_count": 55,
   "metadata": {
    "collapsed": false
   },
   "outputs": [
    {
     "name": "stdout",
     "output_type": "stream",
     "text": [
      "[2, 1, 1, 2, 1, 1]\n",
      "[103, 54, 41, 44, 181, 190]\n"
     ]
    }
   ],
   "source": [
    "i = 22\n",
    "# print (texts[i])\n",
    "# print (comment_scores[i])\n",
    "# print (components_text(texts[i]))\n",
    "print (get_components(texts[i]))\n",
    "print (sent_words(texts[i]))"
   ]
  },
  {
   "cell_type": "code",
   "execution_count": 56,
   "metadata": {
    "collapsed": true
   },
   "outputs": [],
   "source": [
    "# natio of claim and other components\n",
    "def component_num(text):\n",
    "    components = get_components(text)\n",
    "    Claim_num = 0\n",
    "    Premise_num = 0\n",
    "    Empty_num = 0\n",
    "    major_claim = 0 \n",
    "    \n",
    "    for item in components:\n",
    "        if item == 0:\n",
    "            Claim_num += 1\n",
    "        elif item == 1:\n",
    "            Premise_num += 1\n",
    "        elif item == 2:\n",
    "            Empty_num +=1 \n",
    "        else:\n",
    "            major_claim += 1\n",
    "            \n",
    "    return [Claim_num, Premise_num, Empty_num, major_claim]"
   ]
  },
  {
   "cell_type": "code",
   "execution_count": 57,
   "metadata": {
    "collapsed": false
   },
   "outputs": [
    {
     "name": "stdout",
     "output_type": "stream",
     "text": [
      "[0, 4, 2, 0]\n"
     ]
    }
   ],
   "source": [
    "print (component_num(texts[i]))"
   ]
  },
  {
   "cell_type": "markdown",
   "metadata": {},
   "source": [
    "*** natio for components ***"
   ]
  },
  {
   "cell_type": "code",
   "execution_count": 58,
   "metadata": {
    "collapsed": true
   },
   "outputs": [],
   "source": [
    "# return the ratio for every element\n",
    "def component_ratio(text):\n",
    "    components = component_num(text)\n",
    "    com_sum = sum(components)\n",
    "    \n",
    "    natio_list = []\n",
    "    for item in components:\n",
    "        temp = float(item)/com_sum\n",
    "        natio_list.append(round(temp,2))\n",
    "    return natio_list"
   ]
  },
  {
   "cell_type": "code",
   "execution_count": 59,
   "metadata": {
    "collapsed": false
   },
   "outputs": [
    {
     "name": "stdout",
     "output_type": "stream",
     "text": [
      "[0.0, 0.67, 0.33, 0.0]\n"
     ]
    }
   ],
   "source": [
    "print (component_ratio(texts[i]))"
   ]
  },
  {
   "cell_type": "code",
   "execution_count": 60,
   "metadata": {
    "collapsed": true
   },
   "outputs": [],
   "source": [
    "# words count of these components \n",
    "def component_word_count(text):\n",
    "    # the component list and corresponding sentence word count \n",
    "    comp_list = get_components(text)\n",
    "    words_num_list = sent_words(text)\n",
    "    \n",
    "    Claim_num = 0\n",
    "    Premise_num = 0\n",
    "    Empty_num = 0\n",
    "    major_claim = 0 \n",
    "    \n",
    "    for i in range(len(comp_list)):\n",
    "        temp = comp_list[i]\n",
    "        if temp == 0:\n",
    "            Claim_num += words_num_list[i]\n",
    "        elif temp == 1:\n",
    "            Premise_num += words_num_list[i]\n",
    "        elif temp == 2:\n",
    "            Empty_num += words_num_list[i]\n",
    "        else:\n",
    "            major_claim += words_num_list[i]\n",
    "\n",
    "    return [Claim_num, Premise_num, Empty_num, major_claim]\n",
    "    "
   ]
  },
  {
   "cell_type": "code",
   "execution_count": 61,
   "metadata": {
    "collapsed": false
   },
   "outputs": [
    {
     "name": "stdout",
     "output_type": "stream",
     "text": [
      "[0, 466, 147, 0]\n"
     ]
    }
   ],
   "source": [
    "print (component_word_count(texts[i]))"
   ]
  },
  {
   "cell_type": "markdown",
   "metadata": {},
   "source": [
    " ***natio of words number for every component***"
   ]
  },
  {
   "cell_type": "code",
   "execution_count": 62,
   "metadata": {
    "collapsed": true
   },
   "outputs": [],
   "source": [
    "# word natio for every component\n",
    "def component_word_natio(text):\n",
    "    components_words_list = component_word_count(text)\n",
    "    word_sum = sum(components_words_list)\n",
    "    \n",
    "    natio_list = []\n",
    "    for item in components_words_list:\n",
    "        temp = float(item)/word_sum\n",
    "        natio_list.append(round(temp,2))\n",
    "    return natio_list"
   ]
  },
  {
   "cell_type": "code",
   "execution_count": 63,
   "metadata": {
    "collapsed": false
   },
   "outputs": [
    {
     "name": "stdout",
     "output_type": "stream",
     "text": [
      "[0.0, 0.76, 0.24, 0.0]\n"
     ]
    }
   ],
   "source": [
    "print (component_word_natio(texts[i]))"
   ]
  },
  {
   "cell_type": "code",
   "execution_count": 64,
   "metadata": {
    "collapsed": true
   },
   "outputs": [],
   "source": [
    "\n",
    "# texts = data['comment_text']\n",
    "# comment_scores = data['mean_evaluation']"
   ]
  },
  {
   "cell_type": "code",
   "execution_count": 65,
   "metadata": {
    "collapsed": false
   },
   "outputs": [],
   "source": [
    "# for i in range(100):\n",
    "# #     print (component_num(texts[i])\n",
    "#     print (texts[i])\n",
    "#     print (component_num(texts[i]))\n",
    "#     print (component_ratio(texts[i]))\n",
    "#     print (component_word_count(texts[i]))\n",
    "#     print (component_word_natio(texts[i]))\n",
    "#     print (comment_scores[i])\n",
    "#     print ('-----')\n",
    "#     print "
   ]
  },
  {
   "cell_type": "code",
   "execution_count": 66,
   "metadata": {
    "collapsed": true
   },
   "outputs": [],
   "source": [
    "# store the result into a pickle file \n"
   ]
  },
  {
   "cell_type": "code",
   "execution_count": null,
   "metadata": {
    "collapsed": true
   },
   "outputs": [],
   "source": []
  },
  {
   "cell_type": "markdown",
   "metadata": {},
   "source": [
    "## visualize the relations of components"
   ]
  },
  {
   "cell_type": "code",
   "execution_count": 67,
   "metadata": {
    "collapsed": true
   },
   "outputs": [],
   "source": [
    "component_nums = []\n",
    "for i in range(len(texts)):\n",
    "    component_nums.append(component_num(texts[i]))"
   ]
  },
  {
   "cell_type": "markdown",
   "metadata": {},
   "source": [
    "### number of component class Vs Score "
   ]
  },
  {
   "cell_type": "code",
   "execution_count": 68,
   "metadata": {
    "collapsed": false
   },
   "outputs": [],
   "source": [
    "# count the classes of argument component contains \n",
    "def component_class_num(components):\n",
    "    count = 0 \n",
    "    for t in components:\n",
    "        if t != 0:\n",
    "            count += 1\n",
    "    return count "
   ]
  },
  {
   "cell_type": "code",
   "execution_count": 69,
   "metadata": {
    "collapsed": false
   },
   "outputs": [],
   "source": [
    "component_class_nums = []\n",
    "for item in component_nums:\n",
    "    component_class_nums.append(component_class_num(item))"
   ]
  },
  {
   "cell_type": "code",
   "execution_count": 70,
   "metadata": {
    "collapsed": false
   },
   "outputs": [],
   "source": [
    "# visualization the relation between class number of argument component and the score of the comment \n",
    "import matplotlib.pyplot as plt\n",
    "import numpy as np\n",
    "%matplotlib inline\n",
    "import seaborn as sns"
   ]
  },
  {
   "cell_type": "code",
   "execution_count": 71,
   "metadata": {
    "collapsed": false
   },
   "outputs": [],
   "source": [
    "component_class_nums_data = pd.DataFrame({\"argument component type number\": np.array(component_class_nums),\n",
    "                        \"CT score\": comment_scores\n",
    "                              })"
   ]
  },
  {
   "cell_type": "code",
   "execution_count": 72,
   "metadata": {
    "collapsed": false
   },
   "outputs": [],
   "source": [
    "# print (component_class_nums)"
   ]
  },
  {
   "cell_type": "code",
   "execution_count": 126,
   "metadata": {
    "collapsed": false
   },
   "outputs": [
    {
     "data": {
      "image/png": "[encoded data removed]",
      "text/plain": [
       "<matplotlib.figure.Figure at 0x1053bde48>"
      ]
     },
     "metadata": {},
     "output_type": "display_data"
    }
   ],
   "source": [
    "fig = plt.figure()\n",
    "fig.suptitle('Correlation between argument component type number and CT score')\n",
    "sns.regplot(x=\"CT score\", y=\"argument component type number\", data=component_class_nums_data , x_estimator=np.mean)\n",
    "plt.show()\n",
    "# g.set(xlabel=\"comment Score\",ylabel=\"kind of argument component\", title=\"Kinds of argument component Vs Score\")"
   ]
  },
  {
   "cell_type": "code",
   "execution_count": 127,
   "metadata": {
    "collapsed": true
   },
   "outputs": [],
   "source": [
    "fig.savefig('argument component types.png', dpi=fig.dpi)"
   ]
  },
  {
   "cell_type": "code",
   "execution_count": 142,
   "metadata": {
    "collapsed": true
   },
   "outputs": [],
   "source": [
    "from scipy import stats\n",
    "from numpy import corrcoef"
   ]
  },
  {
   "cell_type": "code",
   "execution_count": 152,
   "metadata": {
    "collapsed": false
   },
   "outputs": [
    {
     "name": "stdout",
     "output_type": "stream",
     "text": [
      "3.0\n"
     ]
    }
   ],
   "source": [
    "print (component_class_nums_data['CT score'][0])"
   ]
  },
  {
   "cell_type": "code",
   "execution_count": 149,
   "metadata": {
    "collapsed": true
   },
   "outputs": [],
   "source": [
    "def pearsonSimilar(inA,inB):  \n",
    "    if len(inA)<3:  \n",
    "        return 1.0  \n",
    "#     return 0.5+0.5*np.corrcoef(inA,inB,rowvar=0)[0][1]  \n",
    "    return np.corrcoef(inA,inB,rowvar=0)[0][1]"
   ]
  },
  {
   "cell_type": "code",
   "execution_count": 166,
   "metadata": {
    "collapsed": false
   },
   "outputs": [
    {
     "name": "stdout",
     "output_type": "stream",
     "text": [
      "(nan, 1.0)\n",
      "2868 2868\n"
     ]
    }
   ],
   "source": [
    "list1 = [float(item) for item in component_class_nums_data['CT score']]\n",
    "list2 = [float(item) for item in component_class_nums_data['argument component type number']]\n",
    "print (stats.pearsonr(np.array(list2),np.array(list1)))\n",
    "# print (pearsonSimilar(list2.mean,list1))\n",
    "# print (list2)\n",
    "print (len(list1), len(list2))\n"
   ]
  },
  {
   "cell_type": "code",
   "execution_count": 163,
   "metadata": {
    "collapsed": false
   },
   "outputs": [
    {
     "name": "stdout",
     "output_type": "stream",
     "text": [
      "0.211603684758\n"
     ]
    }
   ],
   "source": [
    "list1 = [1,2,3]\n",
    "list2 = [3,-4,5]\n",
    "print (np.corrcoef(list1, list2)[0, 1])"
   ]
  },
  {
   "cell_type": "code",
   "execution_count": 75,
   "metadata": {
    "collapsed": false
   },
   "outputs": [],
   "source": [
    "# comment_scores = np.array(comment_scores)\n",
    "# component_class_nums = np.array(component_class_nums)\n",
    "# # sns.set()\n",
    "# g = sns.regplot(comment_scores, component_class_nums, order=2)\n",
    "# g.set(xlabel=\"comment Score\",ylabel=\"kind of argument component\", title=\"Kinds of argument component Vs Score\")"
   ]
  },
  {
   "cell_type": "markdown",
   "metadata": {
    "collapsed": true
   },
   "source": [
    " ###  the number of  every component ***Vs*** Score"
   ]
  },
  {
   "cell_type": "code",
   "execution_count": 76,
   "metadata": {
    "collapsed": true
   },
   "outputs": [],
   "source": [
    "# component_nums, comment_scores\n",
    "claims_num  = [item[0] for item in component_nums]\n",
    "premis_num = [item[1] for item in component_nums]\n",
    "empty_num = [item[2] for item in component_nums]\n",
    "major_claim = [item[3] for item in component_nums]"
   ]
  },
  {
   "cell_type": "code",
   "execution_count": 77,
   "metadata": {
    "collapsed": false
   },
   "outputs": [],
   "source": [
    "# print (claims_num)"
   ]
  },
  {
   "cell_type": "code",
   "execution_count": 78,
   "metadata": {
    "collapsed": true
   },
   "outputs": [],
   "source": [
    "sent_num_data = pd.DataFrame({\"claim\": claims_num,\n",
    "                        \"premise\": premis_num,\n",
    "                        \"None\": empty_num,\n",
    "                        \"major claim\": major_claim,\n",
    "                        \"CT score\": comment_scores\n",
    "                              })"
   ]
  },
  {
   "cell_type": "code",
   "execution_count": 140,
   "metadata": {
    "collapsed": false
   },
   "outputs": [
    {
     "data": {
      "image/png": "[encoded data removed]",
      "text/plain": [
       "<matplotlib.figure.Figure at 0x12aaffac8>"
      ]
     },
     "metadata": {},
     "output_type": "display_data"
    }
   ],
   "source": [
    "# Create a figure instance, and the two subplots\n",
    "fig = plt.figure()\n",
    "fig.suptitle('Correlation between argument component type sentence count and CT score')\n",
    "ax1 = fig.add_subplot(221)\n",
    "ax2 = fig.add_subplot(222)\n",
    "ax3 = fig.add_subplot(223)\n",
    "ax4 = fig.add_subplot(224)\n",
    "fig.subplots_adjust(left=None, bottom=None, right=None, top=None, wspace=0.35, hspace=None)\n",
    "sns.regplot(x=\"CT score\", y=\"claim\", data=sent_num_data, ax=ax1, x_estimator=np.mean)\n",
    "sns.regplot(x=\"CT score\", y=\"premise\", data=sent_num_data, ax=ax2,x_estimator=np.mean)\n",
    "sns.regplot(x=\"CT score\", y=\"None\", data=sent_num_data, ax=ax3,x_estimator=np.mean)\n",
    "sns.regplot(x=\"CT score\", y=\"major claim\", data=sent_num_data, ax=ax4,x_estimator=np.mean)\n",
    "plt.show()"
   ]
  },
  {
   "cell_type": "code",
   "execution_count": 141,
   "metadata": {
    "collapsed": true
   },
   "outputs": [],
   "source": [
    "fig.savefig('sentence number.png', dpi=fig.dpi)"
   ]
  },
  {
   "cell_type": "code",
   "execution_count": 148,
   "metadata": {
    "collapsed": false
   },
   "outputs": [
    {
     "name": "stdout",
     "output_type": "stream",
     "text": [
      "(nan, 1.0)\n"
     ]
    }
   ],
   "source": [
    "list1 = sent_num_data['CT score']\n",
    "list2 = sent_num_data['major claim']\n",
    "print (stats.pearsonr(list2,list1))"
   ]
  },
  {
   "cell_type": "markdown",
   "metadata": {
    "collapsed": true
   },
   "source": [
    "### the ratio of component Vs Score"
   ]
  },
  {
   "cell_type": "code",
   "execution_count": 81,
   "metadata": {
    "collapsed": false
   },
   "outputs": [],
   "source": [
    "ratios = []\n",
    "for t in texts:\n",
    "    ratios.append(component_ratio(t))\n",
    "ratios = np.array(ratios)"
   ]
  },
  {
   "cell_type": "code",
   "execution_count": 82,
   "metadata": {
    "collapsed": true
   },
   "outputs": [],
   "source": [
    "claims_ratio = [item[0] for item in ratios]\n",
    "premis_ratio = [item[1] for item in ratios]\n",
    "empty_ratio = [item[2] for item in ratios]\n",
    "major_claim_ratio = [item[3] for item in ratios]"
   ]
  },
  {
   "cell_type": "code",
   "execution_count": 83,
   "metadata": {
    "collapsed": false
   },
   "outputs": [],
   "source": [
    "ratio_data = pd.DataFrame({\"claim\": claims_ratio,\n",
    "                        \"premis\": premis_ratio,\n",
    "                        \"None\": empty_ratio,\n",
    "                        \"major_claim\": major_claim_ratio,\n",
    "                        \"score\": comment_scores\n",
    "                              }) # I increased your errors so I could see them"
   ]
  },
  {
   "cell_type": "code",
   "execution_count": 136,
   "metadata": {
    "collapsed": false
   },
   "outputs": [
    {
     "data": {
      "image/png": "[encoded data removed]",
      "text/plain": [
       "<matplotlib.figure.Figure at 0x12a433470>"
      ]
     },
     "metadata": {},
     "output_type": "display_data"
    }
   ],
   "source": [
    "# Create a figure instance, and the two subplots\n",
    "fig = plt.figure()\n",
    "# Correlation between each argument component word ratio and CT score\n",
    "fig.suptitle('Correlation between argument component sentence ratio and CT score')\n",
    "ax1 = fig.add_subplot(221)\n",
    "ax2 = fig.add_subplot(222)\n",
    "ax3 = fig.add_subplot(223)\n",
    "ax4 = fig.add_subplot(224)\n",
    "fig.subplots_adjust(left=None, bottom=None, right=None, top=None, wspace=0.35, hspace=None)\n",
    "sns.regplot(x=\"score\", y=\"claim\", data=ratio_data, ax=ax1,x_estimator=np.mean)\n",
    "sns.regplot(x=\"score\", y=\"premis\", data=ratio_data, ax=ax2,x_estimator=np.mean)\n",
    "sns.regplot(x=\"score\", y=\"None\", data=ratio_data, ax=ax3,x_estimator=np.mean)\n",
    "sns.regplot(x=\"score\", y=\"major_claim\", data=ratio_data, ax=ax4,x_estimator=np.mean)\n",
    "plt.show()"
   ]
  },
  {
   "cell_type": "code",
   "execution_count": 137,
   "metadata": {
    "collapsed": true
   },
   "outputs": [],
   "source": [
    "fig.savefig('sentence ratio.png', dpi=fig.dpi)"
   ]
  },
  {
   "cell_type": "markdown",
   "metadata": {
    "collapsed": true
   },
   "source": [
    "### Word count of component Vs Score"
   ]
  },
  {
   "cell_type": "code",
   "execution_count": 86,
   "metadata": {
    "collapsed": true
   },
   "outputs": [],
   "source": [
    "comp_word_count = []\n",
    "for item in texts: \n",
    "    comp_word_count.append(component_word_count(item))"
   ]
  },
  {
   "cell_type": "code",
   "execution_count": 87,
   "metadata": {
    "collapsed": true
   },
   "outputs": [],
   "source": [
    "claims_word_count = [item[0] for item in comp_word_count]\n",
    "premis_word_count = [item[1] for item in comp_word_count]\n",
    "empty_word_count = [item[2] for item in comp_word_count]\n",
    "major_claim_word_count = [item[3] for item in comp_word_count]"
   ]
  },
  {
   "cell_type": "code",
   "execution_count": 88,
   "metadata": {
    "collapsed": true
   },
   "outputs": [],
   "source": [
    "word_count_data = pd.DataFrame({\"claim\": claims_word_count,\n",
    "                        \"premis\": premis_word_count,\n",
    "                        \"None\": empty_word_count,\n",
    "                        \"major claim\": major_claim_word_count,\n",
    "                        \"score\": comment_scores\n",
    "                              })"
   ]
  },
  {
   "cell_type": "code",
   "execution_count": 132,
   "metadata": {
    "collapsed": false
   },
   "outputs": [
    {
     "data": {
      "image/png": "[encoded data removed]",
      "text/plain": [
       "<matplotlib.figure.Figure at 0x1234e39b0>"
      ]
     },
     "metadata": {},
     "output_type": "display_data"
    }
   ],
   "source": [
    "# Create a figure instance, and the two subplots\n",
    "fig = plt.figure()\n",
    "fig.suptitle('Correlation between argument component word count Vs CT score')\n",
    "ax1 = fig.add_subplot(221)\n",
    "ax2 = fig.add_subplot(222)\n",
    "ax3 = fig.add_subplot(223)\n",
    "ax4 = fig.add_subplot(224)\n",
    "fig.subplots_adjust(left=None, bottom=None, right=None, top=None, wspace=0.35, hspace=None)\n",
    "sns.regplot(x=\"score\", y=\"claim\", data=word_count_data, ax=ax1,x_estimator=np.mean)\n",
    "sns.regplot(x=\"score\", y=\"premis\", data=word_count_data, ax=ax2,x_estimator=np.mean)\n",
    "sns.regplot(x=\"score\", y=\"None\", data=word_count_data, ax=ax3,x_estimator=np.mean)\n",
    "sns.regplot(x=\"score\", y=\"major claim\", data=word_count_data, ax=ax4,x_estimator=np.mean)\n",
    "plt.show()"
   ]
  },
  {
   "cell_type": "code",
   "execution_count": 146,
   "metadata": {
    "collapsed": true
   },
   "outputs": [],
   "source": [
    "fig.savefig('word count.png', dpi=fig.dpi)"
   ]
  },
  {
   "cell_type": "markdown",
   "metadata": {},
   "source": [
    "### Word ratio of componet Vs Score"
   ]
  },
  {
   "cell_type": "code",
   "execution_count": 91,
   "metadata": {
    "collapsed": true
   },
   "outputs": [],
   "source": [
    "word_ratios = []\n",
    "for item in texts:\n",
    "    word_ratios.append(component_word_natio(item))"
   ]
  },
  {
   "cell_type": "code",
   "execution_count": 92,
   "metadata": {
    "collapsed": true
   },
   "outputs": [],
   "source": [
    "claims_word_ratio = [item[0] for item in word_ratios]\n",
    "premis_word_ratio = [item[1] for item in word_ratios]\n",
    "empty_word_ratio = [item[2] for item in word_ratios]\n",
    "major_claim_word_ratio = [item[3] for item in word_ratios]"
   ]
  },
  {
   "cell_type": "code",
   "execution_count": 93,
   "metadata": {
    "collapsed": true
   },
   "outputs": [],
   "source": [
    "word_ratio_data = pd.DataFrame({\"claim\": claims_word_ratio,\n",
    "                        \"premis\": premis_word_ratio,\n",
    "                        \"None\": empty_word_ratio,\n",
    "                        \"major_claim\": major_claim_word_ratio,\n",
    "                        \"score\": comment_scores\n",
    "                              })"
   ]
  },
  {
   "cell_type": "code",
   "execution_count": 134,
   "metadata": {
    "collapsed": false
   },
   "outputs": [
    {
     "data": {
      "image/png": "[encoded data removed]",
      "text/plain": [
       "<matplotlib.figure.Figure at 0x129fb5710>"
      ]
     },
     "metadata": {},
     "output_type": "display_data"
    }
   ],
   "source": [
    "# Create a figure instance, and the two subplots\n",
    "fig = plt.figure()\n",
    "fig.suptitle('Correlation between argument component word ratio and CT score')\n",
    "ax1 = fig.add_subplot(221)\n",
    "ax2 = fig.add_subplot(222)\n",
    "ax3 = fig.add_subplot(223)\n",
    "ax4 = fig.add_subplot(224)\n",
    "fig.subplots_adjust(left=None, bottom=None, right=None, top=None, wspace=0.35, hspace=None)\n",
    "sns.regplot(x=\"score\", y=\"claim\", data=word_ratio_data, ax=ax1,x_estimator=np.mean)\n",
    "sns.regplot(x=\"score\", y=\"premis\", data=word_ratio_data, ax=ax2,x_estimator=np.mean)\n",
    "sns.regplot(x=\"score\", y=\"None\", data=word_ratio_data, ax=ax3,x_estimator=np.mean)\n",
    "sns.regplot(x=\"score\", y=\"major_claim\", data=word_ratio_data, ax=ax4,x_estimator=np.mean)\n",
    "plt.show()"
   ]
  },
  {
   "cell_type": "code",
   "execution_count": 135,
   "metadata": {
    "collapsed": true
   },
   "outputs": [],
   "source": [
    "fig.savefig('word ratio.png', dpi=fig.dpi)"
   ]
  },
  {
   "cell_type": "markdown",
   "metadata": {},
   "source": [
    "## Store the data into pickle file"
   ]
  },
  {
   "cell_type": "code",
   "execution_count": 96,
   "metadata": {
    "collapsed": false
   },
   "outputs": [],
   "source": [
    "# integrete feature vectors\n",
    "new_component_class_nums = np.array([[item] for item in component_class_nums])\n",
    "component_nums = np.array(component_nums)"
   ]
  },
  {
   "cell_type": "code",
   "execution_count": 97,
   "metadata": {
    "collapsed": false
   },
   "outputs": [],
   "source": [
    "# import itertools\n",
    "vectors = np.concatenate((new_component_class_nums,\n",
    "                       component_nums,\n",
    "                       ratios,\n",
    "                       comp_word_count,\n",
    "                       word_ratios\n",
    "                      ),axis=1)\n"
   ]
  },
  {
   "cell_type": "code",
   "execution_count": 98,
   "metadata": {
    "collapsed": false
   },
   "outputs": [],
   "source": [
    "text_compo_dic = {}\n",
    "for i in range(len(texts)):\n",
    "    text_compo_dic[texts[i]] = vectors[i]"
   ]
  },
  {
   "cell_type": "code",
   "execution_count": 99,
   "metadata": {
    "collapsed": true
   },
   "outputs": [],
   "source": [
    "import pickle\n",
    "with open('argument_component.pickle', 'wb') as handle:\n",
    "    pickle.dump(text_compo_dic, handle, protocol=pickle.HIGHEST_PROTOCOL)"
   ]
  },
  {
   "cell_type": "code",
   "execution_count": null,
   "metadata": {
    "collapsed": true
   },
   "outputs": [],
   "source": []
  }
 ],
 "metadata": {
  "kernelspec": {
   "display_name": "Python 3",
   "language": "python",
   "name": "python3"
  },
  "language_info": {
   "codemirror_mode": {
    "name": "ipython",
    "version": 3
   },
   "file_extension": ".py",
   "mimetype": "text/x-python",
   "name": "python",
   "nbconvert_exporter": "python",
   "pygments_lexer": "ipython3",
   "version": "3.5.0"
  }
 },
 "nbformat": 4,
 "nbformat_minor": 0
}
