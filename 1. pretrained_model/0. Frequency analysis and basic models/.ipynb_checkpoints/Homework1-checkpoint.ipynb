{
 "cells": [
  {
   "cell_type": "markdown",
   "metadata": {},
   "source": [
    "# Homework 1: Preprocessing and Text Classification"
   ]
  },
  {
   "cell_type": "markdown",
   "metadata": {
    "collapsed": true
   },
   "source": [
    "Student Name: KangKe\n",
    "\n",
    "Student ID: 745384\n",
    "\n",
    "Python version used: 2.7"
   ]
  },
  {
   "cell_type": "markdown",
   "metadata": {},
   "source": [
    "## General info"
   ]
  },
  {
   "cell_type": "markdown",
   "metadata": {},
   "source": [
    "<b>Due date</b>: 5pm, Thursday March 16\n",
    "\n",
    "<b>Submission method</b>: see LMS\n",
    "\n",
    "<b>Submission materials</b>: completed copy of this iPython notebook\n",
    "\n",
    "<b>Late submissions</b>: -20% per day\n",
    "\n",
    "<b>Marks</b>: 5% of mark for class\n",
    "\n",
    "<b>Overview</b>: In this homework, you'll be using a corpus of tweets to do tokenisation of hashtags and build polarity classifers using bag of word (BOW) features.\n",
    "\n",
    "<b>Materials</b>: See the main class LMS page for information on the basic setup required for this class, including an iPython notebook viewer and the python packages NLTK, Numpy, Scipy, Matplotlib, Scikit-Learn, and Gemsim. In particular, if you are not using a lab computer which already has it installed, we recommend installing all the data for NLTK, since you will need various parts of it to complete this assignment. You can also use any Python built-in packages, but do not use any other 3rd party packages; if your iPython notebook doesn't run on the marker's machine, you will lose marks.  \n",
    "\n",
    "<b>Evaluation</b>: Your iPython notebook should run end-to-end without any errors in a reasonable amount of time, and you must follow all instructions provided below, including specific implementation requirements and instructions for what needs to be printed (please avoid printing output we don't ask for). The amount each section is worth is given in parenthesis after the instructions. You will be marked not only on the correctness of your methods, but also the quality and efficency of your code: in particular, you should be careful to use Python built-in functions and operators when appropriate and pick descriptive variable names that adhere to <a href=\"https://www.python.org/dev/peps/pep-0008/\">Python style requirements</a>. If you think it might be unclear what you are doing, you should comment your code to help the marker make sense of it.\n",
    "\n",
    "<b>Extra credit</b>: Each homework has a task which is optional with respect to getting full marks on the assignment, but that can be used to offset any points lost on this or any other homework assignment (but not the final project or the exam). We recommend you skip over this step on your first pass, and come back if you have time: the amount of effort required to receive full marks (1 point) on an extra credit question will be substantially more than earning the same amount of credit on other parts of the homework.\n",
    "\n",
    "<b>Updates</b>: Any major changes to the assignment will be announced via LMS. Minor changes and clarifications will be announced in the forum on LMS, we recommend you check the forum regularly.\n",
    "\n",
    "<b>Academic Misconduct</b>: For most people, collaboration will form a natural part of the undertaking of this homework, and we encourge you to discuss it in general terms with other students. However, this ultimately is still an individual task, and so reuse of code or other instances of clear influence will be considered cheating. We will be checking submissions for originality and will invoke the University’s <a href=\"http://academichonesty.unimelb.edu.au/policy.html\">Academic Misconduct policy</a> where inappropriate levels of collusion or plagiarism are deemed to have taken place.\n"
   ]
  },
  {
   "cell_type": "markdown",
   "metadata": {},
   "source": [
    "## Preprocessing"
   ]
  },
  {
   "cell_type": "markdown",
   "metadata": {
    "collapsed": true
   },
   "source": [
    "<b>Instructions</b>: For this homework we will be using the tweets in the <i>twitter_samples</i> corpus included with NLTK. You should start by accessing these tweets. Use the <i>strings</i> method included in the NLTK corpus reader for <i>twitter_samples</i> to access the tweets (as raw strings). Iterate over the full corpus, and print out the average length, in characters, of the tweets in the corpus. (0.5)\n"
   ]
  },
  {
   "cell_type": "code",
   "execution_count": 2,
   "metadata": {
    "collapsed": false
   },
   "outputs": [
    {
     "name": "stdout",
     "output_type": "stream",
     "text": [
      "103.887266667\n"
     ]
    }
   ],
   "source": [
    "import nltk\n",
    "from nltk.corpus import twitter_samples\n",
    "\n",
    "twitters = twitter_samples.strings()\n",
    "total_length = 0.0\n",
    "twitter_num = len(twitters)\n",
    "for t in twitters:\n",
    "    total_length = total_length + len(t)\n",
    "    \n",
    "average_length = total_length/twitter_num\n",
    "print average_length"
   ]
  },
  {
   "cell_type": "markdown",
   "metadata": {},
   "source": [
    "<b>Instructions</b>: Hashtags (i.e. topic tags which start with #) pose an interesting tokenisation problem because they often include multiple words written without spaces or capitalization. You should use a regular expression to extract all hashtags of length 8 or longer which consist only of lower case letters (other than the # at the beginning, of course, though this should be stripped off as part of the extraction process). Do <b>not</b> tokenise the entire tweet as part of this process. The hashtag might occur at the beginning or the end of the tweet; you should double-check that you aren't missing any. After you have collected them into a list, print out number of hashtags you have collected: for full credit, you must get the exact number that we expect.  (1.0)"
   ]
  },
  {
   "cell_type": "code",
   "execution_count": 2,
   "metadata": {
    "collapsed": false
   },
   "outputs": [
    {
     "name": "stdout",
     "output_type": "stream",
     "text": [
      "1411\n"
     ]
    }
   ],
   "source": [
    "import re\n",
    "hashtags = []\n",
    "for twitter in twitters:\n",
    "    hashtag = re.findall(\n",
    "        r\"(?<=^#)[a-z]{8,}(?=\\s)|(?<=\\s#)[a-z]{8,}(?=\\s)|(?<=\\s#)[a-z]{8,}$\", \n",
    "        twitter\n",
    "    )  \n",
    "    hashtags = hashtags + hashtag       \n",
    "print len(hashtags)"
   ]
  },
  {
   "cell_type": "markdown",
   "metadata": {},
   "source": [
    "<b>Instructions</b>: Now, tokenise the hashtags you've collected. To do this, you should implement a reversed version of the MaxMatch algorithm discussed in class (and in the reading), where matching begins at the end of the hashtag and progresses backwards. NLTK has a list of words that you can use for matching, see starter code below. Be careful about efficiency with respect to doing word lookups. One extra challenge you have to deal with is that the provided list of words includes only lemmas: your MaxMatch algorithm should match inflected forms by converting them into lemmas using the NLTK lemmatiser before matching. Note that the list of words is incomplete, and, if you are unable to make any longer match, your code should default to matching a single letter. Create a new list of tokenised hashtags (this should be a list of lists of strings) and use slicing to print out the last 20 hashtags in the list. (1.0)"
   ]
  },
  {
   "cell_type": "code",
   "execution_count": 3,
   "metadata": {
    "collapsed": true
   },
   "outputs": [],
   "source": [
    "words = nltk.corpus.words.words() # words is a Python list\n",
    "wnl = nltk.WordNetLemmatizer()\n",
    "def MaxRevMatch(hashtags):\n",
    "    wordlist = []\n",
    "    length = len(hashtags)\n",
    "    if length == 0:\n",
    "        return []\n",
    "    for i in range(0, length):\n",
    "        firstword = hashtags[i:]\n",
    "        remainder = hashtags[0:i]\n",
    "        if wnl.lemmatize(firstword) in words:\n",
    "            return MaxRevMatch(remainder) + [firstword]\n",
    "        \n",
    "    firstword = hashtags[-1]\n",
    "    remainder = hashtags[0:-1]\n",
    "    return  MaxRevMatch(remainder) + [firstword]"
   ]
  },
  {
   "cell_type": "code",
   "execution_count": 4,
   "metadata": {
    "collapsed": false
   },
   "outputs": [
    {
     "name": "stdout",
     "output_type": "stream",
     "text": [
      "[[u'leaders', u'debate'], [u'wow', u'campaign'], [u'social', u'security'], [u'tory', u'lies'], [u'election'], [u'b', u'i', u'ase', u'd', u'b', u'b', u'c'], [u'labour', u'doorstep'], [u'b', u'i', u'ase', u'd', u'b', u'b', u'c'], [u'li', u'blab', u'con'], [u'b', u'b', u'c', u'debate'], [u'mi', u'li', u'fandom'], [u'u', u'k', u'parliament'], [u'bedroom', u'tax'], [u'disability'], [u'can', u'nab', u'is'], [u'vote', u'green'], [u'l', u'lan', u'el', u'li', u'h', u'u', u'stings'], [u'bedroom', u'tax'], [u'disability'], [u'bankrupt']]\n"
     ]
    }
   ],
   "source": [
    "tokenised_hashtags = []\n",
    "hashtags1 = hashtags[-20:]\n",
    "for h in hashtags1:\n",
    "    tokenised_hashtags = tokenised_hashtags + [MaxRevMatch(h)]\n",
    "    \n",
    "print tokenised_hashtags[-20:]"
   ]
  },
  {
   "cell_type": "markdown",
   "metadata": {},
   "source": [
    "### Extra Credit (Optional)\n",
    "<b>Instructions</b>: Implement the forward version of the MaxMatch algorithm as well, and print out all the hashtags which give different results for the two versions of MaxMatch. Your main task is to come up with a good way to select which of the two segmentations is better for any given case, and demonstrate that it works significantly better than using a single version of the algorithm for all hashtags. (1.0)"
   ]
  },
  {
   "cell_type": "code",
   "execution_count": 5,
   "metadata": {
    "collapsed": true
   },
   "outputs": [],
   "source": [
    "def MaxMatch(hashtags):\n",
    "    wordlist = []\n",
    "    length = len(hashtags)\n",
    "    if length == 0:\n",
    "        return []\n",
    "    for i in range(0, length):\n",
    "        firstword = hashtags[0:length-i]\n",
    "        remainder = hashtags[length-i:]\n",
    "        if wnl.lemmatize(firstword) in words:\n",
    "            return [firstword] + MaxMatch(remainder)\n",
    "        \n",
    "    firstword = hashtags[0]\n",
    "    remainder = hashtags[1:]\n",
    "    return [firstword] + MaxMatch(remainder)"
   ]
  },
  {
   "cell_type": "code",
   "execution_count": 6,
   "metadata": {
    "collapsed": false
   },
   "outputs": [
    {
     "name": "stdout",
     "output_type": "stream",
     "text": [
      "[[u'leaders', u'debate'], [u'wow', u'campaign'], [u'socials', u'e', u'cur', u'it', u'y'], [u'tory', u'lies'], [u'election'], [u'bias', u'e', u'd', u'b', u'b', u'c'], [u'labour', u'doorstep'], [u'bias', u'e', u'd', u'b', u'b', u'c'], [u'li', u'blab', u'con'], [u'b', u'b', u'c', u'debate'], [u'mil', u'if', u'and', u'om'], [u'u', u'k', u'parliament'], [u'bedroom', u'tax'], [u'disability'], [u'canna', u'b', u'is'], [u'vote', u'green'], [u'l', u'lane', u'l', u'li', u'husting', u's'], [u'bedroom', u'tax'], [u'disability'], [u'bankrupt']]\n"
     ]
    }
   ],
   "source": [
    "tokenised_hashtags1 = []\n",
    "for h in hashtags1:\n",
    "    tokenised_hashtags1 = tokenised_hashtags1 + [MaxMatch(h)]\n",
    "    \n",
    "print tokenised_hashtags1[-20:]"
   ]
  },
  {
   "cell_type": "code",
   "execution_count": 7,
   "metadata": {
    "collapsed": false
   },
   "outputs": [
    {
     "name": "stdout",
     "output_type": "stream",
     "text": [
      "All the hashtags with different list in the forward and reverse max match algorithm:\n",
      "athabasca\n",
      "explorealberta\n",
      "batalladelosgallos\n",
      "webcamsex\n",
      "instagram\n",
      "addmeonsnapchat\n",
      "kiksexting\n",
      "orcalove\n",
      "fresherstofinals\n",
      "undercoverboss\n",
      "zayniscomingback\n",
      "kiksexting\n",
      "giachietittiwedding\n",
      "igersoftheday\n",
      "anywayhedidanicejob\n",
      "bestoftheday\n",
      "sabadodeganarseguidores\n",
      "feelslikeanidiot\n",
      "matteroftheheart\n",
      "hotfmnoaidilforariana\n",
      "hannibal\n",
      "addmeonsnapchat\n",
      "premiostumundo\n",
      "ausfailia\n",
      "kiksexting\n",
      "stafford\n",
      "wewanticecream\n",
      "feelgoodfriday\n",
      "phandroid\n",
      "sexysasunday\n",
      "zayniscomingback\n",
      "kikmenow\n",
      "sabadodeganarseguidores\n",
      "cyclerevolution\n",
      "bestoftheday\n",
      "bestoftheday\n",
      "sexysasunday\n",
      "selfshot\n",
      "whereisthesun\n",
      "summerismissing\n",
      "zayniscomingback\n",
      "kikmenow\n",
      "indiemusic\n",
      "selfshot\n",
      "elfindelmundo\n",
      "webcamsex\n",
      "mybrainneedstoshutoff\n",
      "deathbybaconsmell\n",
      "imintoher\n",
      "photooftheday\n",
      "indiemusic\n",
      "indiemusic\n",
      "indiemusic\n",
      "indiemusic\n",
      "indiemusic\n",
      "hannibal\n",
      "hotfmnoaidilforariana\n",
      "photooftheday\n",
      "indiemusic\n",
      "justgotkanekified\n",
      "indiemusic\n",
      "indiemusic\n",
      "kikmenow\n",
      "kikmenow\n",
      "louisiana\n",
      "indiemusic\n",
      "docopenhagen\n",
      "phonesex\n",
      "kikkomansabor\n",
      "kikmenow\n",
      "webcamsex\n",
      "kiksexting\n",
      "brasileirao\n",
      "batalladelosgallos\n",
      "givecodpieceachance\n",
      "kikmenow\n",
      "kikmenow\n",
      "hannibal\n",
      "kiksexting\n",
      "kiksexting\n",
      "hotmusicdelocos\n",
      "thestruggleisreal\n",
      "bbloggers\n",
      "hotmusicdelocos\n",
      "webcamsex\n",
      "premiostumundo\n",
      "sheskindahot\n",
      "phonesex\n",
      "kikmenow\n",
      "brasileirao\n",
      "viernesderolenahot\n",
      "kikmenow\n",
      "elfindelmundo\n",
      "sextaatequemfimseguesdvcomvalentino\n",
      "yogyakarta\n",
      "yogyakarta\n",
      "yaytheylookgreat\n",
      "kikmenow\n",
      "mypapamypride\n",
      "quacketyquack\n",
      "fahrinahmad\n",
      "tengkuaaronshah\n",
      "haveagoodday\n",
      "supersmash\n",
      "hotnsexy\n",
      "friskyfriday\n",
      "disneyinfinity\n",
      "penacova\n",
      "latinhouse\n",
      "photooftheday\n",
      "sheskindahot\n",
      "foiegras\n",
      "checking\n",
      "journorequest\n",
      "gottolovebanks\n",
      "quacketyquack\n",
      "toptravelcentar\n",
      "lbloggers\n",
      "pbloggers\n",
      "dedicatedfan\n",
      "addmeonbbm\n",
      "scotlandismassive\n",
      "kiksexting\n",
      "kikmenow\n",
      "kikkomansabor\n",
      "kiksexting\n",
      "kiksexting\n",
      "takesonetoknowone\n",
      "bemecode\n",
      "proudtobeme\n",
      "elfindelmundo\n",
      "tracerequest\n",
      "sabadodeganarseguidores\n",
      "sexysasunday\n",
      "quacketyquack\n",
      "hannibal\n",
      "phonesex\n",
      "crowdfunding\n",
      "fridayfun\n",
      "ejayster\n",
      "wordoftheweek\n",
      "freebiefriday\n",
      "ineedfeminismbecause\n",
      "rudramadevi\n",
      "branding\n",
      "lovesummertime\n",
      "telecoms\n",
      "fridayfeeling\n",
      "foiegras\n",
      "favourites\n",
      "telecoms\n",
      "realoshi\n",
      "dealsuthaonotebachao\n",
      "bindingofissac\n",
      "hotmusicdelocos\n",
      "superheroes\n",
      "scififan\n",
      "liveonstreamate\n",
      "bowwowchicawowwow\n",
      "quacketyquack\n",
      "itsamarvelthing\n",
      "thegrandad\n",
      "fridayfeeling\n",
      "kiksexting\n",
      "indiemusic\n",
      "indiemusic\n",
      "sunnyday\n",
      "quacketyquack\n",
      "vscogood\n",
      "vscophil\n",
      "vscocousins\n",
      "horseracing\n",
      "horseracingtips\n",
      "premiostumundo\n",
      "kikkomansabor\n",
      "photooftheday\n",
      "indiemusic\n",
      "keepitlocal\n",
      "keepitlocal\n",
      "quacketyquack\n",
      "instagood\n",
      "photooftheday\n",
      "videographer\n",
      "prosecco\n",
      "decorating\n",
      "slovenia\n",
      "tellanoldjokeday\n",
      "bestoftheday\n",
      "premiostumundo\n",
      "yogyakarta\n",
      "walangmakakapigilsakin\n",
      "healthylifestyle\n",
      "nonscripted\n",
      "addmeonsnapchat\n",
      "kikmenow\n",
      "sexysaturday\n",
      "kiksexting\n",
      "indiemusic\n",
      "extremesports\n",
      "bloggersrequired\n",
      "bloggerswanted\n",
      "ashramcalling\n",
      "niteflirt\n",
      "nomnomnom\n",
      "wuppertal\n",
      "instagood\n",
      "sexysasunday\n",
      "indiemusic\n",
      "friskyfiday\n",
      "quacketyquack\n",
      "messengerforaday\n",
      "singapore\n",
      "yourewelcome\n",
      "hindugod\n",
      "melbourneburgers\n",
      "londoutrading\n",
      "instagram\n",
      "maritimenation\n",
      "theworldwouldchange\n",
      "zorroreturms\n",
      "hugahusky\n",
      "davidcamerontweet\n",
      "greatstorm\n",
      "alexsalmond\n",
      "scottishlabour\n",
      "milistumble\n",
      "rudemanslapdown\n",
      "allinittogether\n",
      "millibrandcuts\n",
      "antaghadh\n",
      "millibrandcuts\n",
      "votelabourorelse\n",
      "llanellihustings\n",
      "asknicolasturgeon\n",
      "edmiliband\n",
      "miliband\n",
      "grantshapps\n",
      "miliband\n",
      "saysitall\n",
      "cantbearsedmps\n",
      "edmiliband\n",
      "miliband\n",
      "milliband\n",
      "milimadness\n",
      "towakana\n",
      "milimadness\n",
      "scottishlabour\n",
      "levenson\n",
      "milibrandcuts\n",
      "wearealldoomed\n",
      "milibrandcuts\n",
      "farageical\n",
      "alexsalmond\n",
      "doubleeuropeantrouble\n",
      "milibrandcuts\n",
      "millibrand\n",
      "libdemproblems\n",
      "alexsalmond\n",
      "millibrandcuts\n",
      "alexsalmond\n",
      "horsehasbolted\n",
      "milimadness\n",
      "milibrand\n",
      "millibrandcuts\n",
      "libdemproblems\n",
      "mponatrain\n",
      "millibrandcuts\n",
      "wearealldoomed\n",
      "nickrobinson\n",
      "rulebritannia\n",
      "welcometoessex\n",
      "bairnsnotbombs\n",
      "wearealldoomed\n",
      "cameronettes\n",
      "wearealldoomed\n",
      "nickrobinson\n",
      "milibrandcuts\n",
      "alexsalmond\n",
      "catchingup\n",
      "handledthatbashingwell\n",
      "nickrobinson\n",
      "millibrandcuts\n",
      "miliband\n",
      "retweetandfollowme\n",
      "bairnsnotbombs\n",
      "milibrandcuts\n",
      "justsayin\n",
      "alexsalmond\n",
      "immigrantsolution\n",
      "scotland\n",
      "startups\n",
      "askfarage\n",
      "askformoney\n",
      "libdemproblems\n",
      "mponatrain\n",
      "llanellihustings\n",
      "votesnpgetsexy\n",
      "justsayin\n",
      "hypnotoad\n",
      "hypnotoad\n",
      "paedobritain\n",
      "paedobritain\n",
      "paedobritain\n",
      "paedobritain\n",
      "scottishlabour\n",
      "millibrandcuts\n",
      "dontvoteukip\n",
      "milifandom\n",
      "miliband\n",
      "noideawhatimdoing\n",
      "hardestchallenge\n",
      "mightofgottenchampange\n",
      "messeswithmyhead\n",
      "libdemproblems\n",
      "nickclegg\n",
      "clueless\n",
      "isitright\n",
      "lanarkhustings\n",
      "workingclasstory\n",
      "libdemproblems\n",
      "llanellihustings\n",
      "rulebritannia\n",
      "useyoursense\n",
      "nerdlover\n",
      "lanarkhustings\n",
      "milifandom\n",
      "milifandom\n",
      "askfarage\n",
      "voteukip\n",
      "youreapwhatyousow\n",
      "cloudcookoo\n",
      "badgersculltories\n",
      "bairnsnotbombs\n",
      "weareonthesamesidegetridofcameron\n",
      "askfarage\n",
      "frustrated\n",
      "organisedcrime\n",
      "bbcelection\n",
      "llanellihustings\n",
      "faragefail\n",
      "voteukip\n",
      "askfarage\n",
      "sturwars\n",
      "milifandom\n",
      "bluetintedspecs\n",
      "stumblegate\n",
      "llanellihustings\n",
      "asknicolasturgeon\n",
      "faragefail\n",
      "watkiestnl\n",
      "scottishlabour\n",
      "askfarage\n",
      "toriemanifesto\n",
      "ownedbythenortherners\n",
      "asknigelfarge\n",
      "manchester\n",
      "immigrationuk\n",
      "greensurge\n",
      "voteukip\n",
      "gettothepoint\n",
      "horribleman\n",
      "horribleman\n",
      "asknigel\n",
      "miliband\n",
      "horribleman\n",
      "milliband\n",
      "hypocracy\n",
      "libdemproblems\n",
      "nickclegg\n",
      "clueless\n",
      "libdemproblems\n",
      "mponatrain\n",
      "electiondebat\n",
      "asknigelfarage\n",
      "milifandom\n",
      "milifandom\n",
      "scotland\n",
      "milifandom\n",
      "justsayin\n",
      "stumblegate\n",
      "edmilliband\n",
      "milliband\n",
      "scottishlabour\n",
      "hovehustings\n",
      "justiceforabusedchildren\n",
      "nigelfarage\n",
      "jihadijohn\n",
      "jihadibrides\n",
      "blindside\n",
      "milifandom\n",
      "horribleman\n",
      "llanellihustings\n",
      "generalelection\n",
      "frenchgate\n",
      "llanellihustings\n",
      "miliband\n",
      "congrats\n",
      "milifandom\n",
      "stalbert\n",
      "milifandom\n",
      "organised\n",
      "voteukip\n",
      "takingjobsoffbritishpeople\n",
      "milifandom\n",
      "scotland\n",
      "sinnfein\n",
      "margarethodge\n",
      "scottishlabour\n",
      "askfarage\n",
      "liarliarpantsonfire\n",
      "ohbrotherwhereartthou\n",
      "stopukip\n",
      "wearealldoomed\n",
      "askfarage\n",
      "milifandom\n",
      "voteukip\n",
      "llanellihustings\n",
      "scotland\n",
      "nigelfarage\n",
      "nigelfarage\n",
      "milifandom\n",
      "cleggers\n",
      "sinnfein\n",
      "miliband\n",
      "horribleman\n",
      "fracking\n",
      "stumblegate\n",
      "asknigelfarage\n",
      "generalelection\n",
      "llanellihustings\n",
      "votingsystemturnoff\n",
      "poorshow\n",
      "sadmanonatrain\n",
      "socialsecurity\n",
      "asknigelfarage\n",
      "milifandom\n",
      "poorshow\n",
      "blogpornstar\n",
      "miliband\n",
      "asknigelfarage\n",
      "generalelection\n",
      "sherlockholmesincarnate\n",
      "asknigelfarage\n",
      "nomneyleft\n",
      "gettothepoint\n",
      "poorshow\n",
      "justnotuptoit\n",
      "deffonotpc\n",
      "scotland\n",
      "milifandom\n",
      "generalelection\n",
      "miliband\n",
      "generalelection\n",
      "venezuela\n",
      "noshitsherlock\n",
      "venezuela\n",
      "evenworsethankayburley\n",
      "deathoflabour\n",
      "tooclosetocall\n",
      "stumblegate\n",
      "qferanews\n",
      "asknicolasturgeon\n",
      "asknigelfarage\n",
      "manontheleft\n",
      "miliband\n",
      "nomorelies\n",
      "nomorelies\n",
      "teaparty\n",
      "uniteright\n",
      "milifandom\n",
      "evenworsethankayburley\n",
      "nomorelies\n",
      "scotland\n",
      "likeyoudontevenwantit\n",
      "thereisnoescape\n",
      "evenworsethankayburley\n",
      "miliband\n",
      "allinittogether\n",
      "voteukip\n",
      "jogonjim\n",
      "miliband\n",
      "stumblegate\n",
      "stumblegate\n",
      "nomorelies\n",
      "generalelection\n",
      "askfarage\n",
      "noticias\n",
      "miliband\n",
      "biasedbbc\n",
      "chamalieres\n",
      "chamalieres\n",
      "davidnaghi\n",
      "biasedbbc\n",
      "miliband\n",
      "socialsecurity\n",
      "biasedbbc\n",
      "biasedbbc\n",
      "milifandom\n",
      "cannabis\n",
      "llanellihustings\n"
     ]
    }
   ],
   "source": [
    "print \"All the hashtags with different list in the forward and reverse max match algorithm:\"\n",
    "for h in hashtags:\n",
    "    forward_list = MaxMatch(h)\n",
    "    reverse_list = MaxRevMatch(h)\n",
    "    if forward_list != reverse_list:\n",
    "        print h"
   ]
  },
  {
   "cell_type": "code",
   "execution_count": 8,
   "metadata": {
    "collapsed": true
   },
   "outputs": [],
   "source": [
    "def compare_max_Maxtch(hashtags):\n",
    "    forward_list = MaxMatch(hashtags)\n",
    "    reverse_list = MaxRevMatch(hashtags)\n",
    "    if len(forward_list) >= len(reverse_list):\n",
    "        return reverse_list\n",
    "    else:\n",
    "        return forward_list"
   ]
  },
  {
   "cell_type": "code",
   "execution_count": 9,
   "metadata": {
    "collapsed": false
   },
   "outputs": [
    {
     "name": "stdout",
     "output_type": "stream",
     "text": [
      "[[u'leaders', u'debate'], [u'wow', u'campaign'], [u'social', u'security'], [u'tory', u'lies'], [u'election'], [u'bias', u'e', u'd', u'b', u'b', u'c'], [u'labour', u'doorstep'], [u'bias', u'e', u'd', u'b', u'b', u'c'], [u'li', u'blab', u'con'], [u'b', u'b', u'c', u'debate'], [u'mi', u'li', u'fandom'], [u'u', u'k', u'parliament'], [u'bedroom', u'tax'], [u'disability'], [u'can', u'nab', u'is'], [u'vote', u'green'], [u'l', u'lane', u'l', u'li', u'husting', u's'], [u'bedroom', u'tax'], [u'disability'], [u'bankrupt']]\n"
     ]
    }
   ],
   "source": [
    "tokenised_hashtags = []\n",
    "for h in hashtags1:\n",
    "    tokenised_hashtags = tokenised_hashtags + [compare_max_Maxtch(h)]\n",
    "    \n",
    "print tokenised_hashtags"
   ]
  },
  {
   "cell_type": "markdown",
   "metadata": {},
   "source": [
    "\n",
    "<b>As the result shows above. 'llanellihustings' gets better result in reverse match. 'milifandom' gets better result in forward match. But in the compare_max_Maxtch algorithm, the results are all the better ones.\n",
    "The length of the results in the two algorithms are compared first. Because if there is mismatch, the list will have  one character string. This will result in one more string in the list. So, will more mismatch string, more one character string, and longer the list is. Comparing the length of lists first, get the list which is shorter can get better match result.<b>\n"
   ]
  },
  {
   "cell_type": "markdown",
   "metadata": {},
   "source": [
    "## Text classification (Not Optional)"
   ]
  },
  {
   "cell_type": "markdown",
   "metadata": {},
   "source": [
    "<b>Instructions</b>: The twitter_sample corpus has two subcorpora corresponding to positive and negative tweets. You can access already tokenised versions using the <i> tokenized </i> method, as given in the code sample below. Iterate through these two corpora and build training, development, and test sets for use with Scikit-learn. You should exclude stopwords (from the built-in NLTK list) and tokens with non-alphabetic characters (this is very important you do this because emoticons were used to build the corpus, if you don't remove them performance will be artificially high). You should randomly split each subcorpus, using 80% of the tweets for training, 10% for development, and 10% for testing; make sure you do this <b>before</b> combining the tweets from the positive/negative subcorpora, so that the sets are <i>stratified</i>, i.e. the exact ratio of positive and negative tweets is preserved across the three sets. (1.0)"
   ]
  },
  {
   "cell_type": "code",
   "execution_count": 3,
   "metadata": {
    "collapsed": false
   },
   "outputs": [],
   "source": [
    "positive_tweets = nltk.corpus.twitter_samples.tokenized(\"positive_tweets.json\")\n",
    "negative_tweets = nltk.corpus.twitter_samples.tokenized(\"negative_tweets.json\")"
   ]
  },
  {
   "cell_type": "code",
   "execution_count": 4,
   "metadata": {
    "collapsed": true
   },
   "outputs": [],
   "source": [
    "def get_BOW(text):\n",
    "    BOW = {}\n",
    "    for word in text:\n",
    "        BOW[word] = BOW.get(word,0) + 1\n",
    "    return BOW"
   ]
  },
  {
   "cell_type": "code",
   "execution_count": 5,
   "metadata": {
    "collapsed": false
   },
   "outputs": [],
   "source": [
    "from nltk.corpus import stopwords\n",
    "stopwords = set(stopwords.words('english'))\n",
    "\n",
    "pos_tweets = []\n",
    "neg_tweets = []\n",
    "pos_classification = []\n",
    "neg_classification = []\n",
    "\n",
    "for twtt in positive_tweets:\n",
    "    new_twtt = []\n",
    "    for w in twtt:\n",
    "        if w.isalpha() and w not in stopwords:\n",
    "            new_twtt.append(w)\n",
    "    pos_tweets.append(get_BOW(new_twtt))\n",
    "    pos_classification.append(\"positive\")\n",
    "\n",
    "for twtt in negative_tweets:\n",
    "    new_twtt = []\n",
    "    for w in twtt:\n",
    "        if w.isalpha() and w not in stopwords:\n",
    "            new_twtt.append(w)\n",
    "    neg_tweets.append(get_BOW(new_twtt))\n",
    "    neg_classification.append(\"negative\")"
   ]
  },
  {
   "cell_type": "code",
   "execution_count": 13,
   "metadata": {
    "collapsed": false
   },
   "outputs": [
    {
     "name": "stderr",
     "output_type": "stream",
     "text": [
      "/Users/apple/Library/Enthought/Canopy_64bit/User/lib/python2.7/site-packages/sklearn/cross_validation.py:44: DeprecationWarning: This module was deprecated in version 0.18 in favor of the model_selection module into which all the refactored classes and functions are moved. Also note that the interface of the new CV iterators are different from that of this module. This module will be removed in 0.20.\n",
      "  \"This module will be removed in 0.20.\", DeprecationWarning)\n"
     ]
    }
   ],
   "source": [
    "from sklearn.cross_validation import train_test_split\n",
    "pos_train, pos_dev_test, pos_class, pos_dev_test_class  = train_test_split(pos_tweets, \n",
    "                                                                           pos_classification,\n",
    "                                                                           test_size = 0.2\n",
    "                                                                           )\n",
    "\n",
    "pos_dev, pos_test, pos_dev_class, pos_test_class = train_test_split(pos_dev_test, \n",
    "                                                                    pos_dev_test_class,\n",
    "                                                                    test_size = 0.5\n",
    "                                                                    )"
   ]
  },
  {
   "cell_type": "code",
   "execution_count": 14,
   "metadata": {
    "collapsed": true
   },
   "outputs": [],
   "source": [
    "neg_train, neg_dev_test, neg_class, neg_dev_test_class  = train_test_split(neg_tweets, \n",
    "                                                                           neg_classification,\n",
    "                                                                           test_size = 0.2\n",
    "                                                                           )\n",
    "\n",
    "neg_dev, neg_test, neg_dev_class, neg_test_class = train_test_split(neg_dev_test, \n",
    "                                                                    neg_dev_test_class,\n",
    "                                                                    test_size = 0.5\n",
    "                                                                    )"
   ]
  },
  {
   "cell_type": "code",
   "execution_count": 15,
   "metadata": {
    "collapsed": true
   },
   "outputs": [],
   "source": [
    "twitter_train = pos_train + neg_train\n",
    "train_classes = pos_class + neg_class\n",
    "\n",
    "twitter_dev = pos_dev + neg_dev\n",
    "dev_classes = pos_dev_class + neg_dev_class\n",
    "\n",
    "twitter_test = pos_test + neg_test\n",
    "test_classes = pos_test_class + neg_test_class"
   ]
  },
  {
   "cell_type": "code",
   "execution_count": null,
   "metadata": {
    "collapsed": true
   },
   "outputs": [],
   "source": []
  },
  {
   "cell_type": "markdown",
   "metadata": {},
   "source": [
    "<b>Instructions</b>: Now, let's build some classifiers. Here, we'll be comparing Naive Bayes and Logistic Regression. For each, you need to first find a good value for their main regularisation (hyper)parameters, which you should identify using the scikit-learn docs or other resources. Use the development set you created for this tuning process; do <b>not</b> use crossvalidation in the training set, or involve the test set in any way. You don't need to show all your work, but you do need to print out the accuracy with enough different settings to strongly suggest you have found an optimal or near-optimal choice. We should not need to look at your code to interpret the output. (1.0)"
   ]
  },
  {
   "cell_type": "code",
   "execution_count": 16,
   "metadata": {
    "collapsed": true
   },
   "outputs": [],
   "source": [
    "from sklearn.naive_bayes import MultinomialNB\n",
    "from sklearn.linear_model import LogisticRegression\n",
    "from sklearn.metrics import accuracy_score, f1_score\n",
    "from sklearn.feature_extraction import DictVectorizer"
   ]
  },
  {
   "cell_type": "code",
   "execution_count": 17,
   "metadata": {
    "collapsed": false
   },
   "outputs": [],
   "source": [
    "vectorizer = DictVectorizer()\n",
    "twitter = twitter_train + twitter_dev + twitter_test\n",
    "twitter = vectorizer.fit_transform(twitter)"
   ]
  },
  {
   "cell_type": "code",
   "execution_count": 18,
   "metadata": {
    "collapsed": false
   },
   "outputs": [],
   "source": [
    "twitter_train = twitter[0:8000]\n",
    "twitter_dev = twitter[8000:9000]\n",
    "twitter_test = twitter[9000: ]"
   ]
  },
  {
   "cell_type": "code",
   "execution_count": 19,
   "metadata": {
    "collapsed": false
   },
   "outputs": [
    {
     "name": "stdout",
     "output_type": "stream",
     "text": [
      "the (alpha, accuracy) pairs in MultinomialNB:\n",
      "(0.1, 0.751)\n",
      "(0.2, 0.75700000000000001)\n",
      "(0.30000000000000004, 0.76000000000000001)\n",
      "(0.4, 0.755)\n",
      "(0.5, 0.75)\n",
      "(0.6000000000000001, 0.75600000000000001)\n",
      "(0.7000000000000001, 0.754)\n",
      "(0.8, 0.753)\n",
      "(0.9, 0.754)\n",
      "(1.0, 0.75600000000000001)\n",
      "(1.1, 0.755)\n",
      "(1.2000000000000002, 0.754)\n",
      "(1.3, 0.752)\n",
      "(1.4000000000000001, 0.753)\n",
      "(1.5, 0.751)\n",
      "(1.6, 0.752)\n",
      "(1.7000000000000002, 0.751)\n",
      "(1.8, 0.751)\n",
      "(1.9000000000000001, 0.751)\n",
      "(2.0, 0.75)\n",
      "(2.1, 0.748)\n",
      "(2.2, 0.746)\n",
      "(2.3000000000000003, 0.746)\n",
      "(2.4000000000000004, 0.746)\n",
      "(2.5, 0.746)\n",
      "(2.6, 0.747)\n",
      "(2.7, 0.747)\n",
      "(2.8000000000000003, 0.747)\n",
      "(2.9000000000000004, 0.746)\n"
     ]
    }
   ],
   "source": [
    "print \"the (alpha, accuracy) pairs in MultinomialNB:\"\n",
    "i = 0.1 \n",
    "best_accuracy = 0.0\n",
    "best_alpha = 0.0\n",
    "for alpha_value in range(1,30):\n",
    "    clf = MultinomialNB(alpha=alpha_value*0.1)\n",
    "    clf.fit(twitter_train, train_classes)\n",
    "    prediciton = clf.predict(twitter_dev)\n",
    "    accuracy = accuracy_score(dev_classes,prediciton)\n",
    "    if accuracy > best_accuracy:\n",
    "        best_accuracy = accuracy\n",
    "        best_alpha = alpha_value*0.1\n",
    "    print (alpha_value*0.1, accuracy)"
   ]
  },
  {
   "cell_type": "code",
   "execution_count": 20,
   "metadata": {
    "collapsed": false
   },
   "outputs": [
    {
     "name": "stdout",
     "output_type": "stream",
     "text": [
      "the best alpha value in MultinomialNB is 0.3 with accuracy:\n",
      "0.76\n"
     ]
    }
   ],
   "source": [
    "clf = MultinomialNB(alpha=best_alpha)\n",
    "clf.fit(twitter_train, train_classes)\n",
    "prediciton = clf.predict(twitter_dev)\n",
    "print \"the best alpha value in MultinomialNB is \"+str(best_alpha)+ \" with accuracy:\" \n",
    "print accuracy_score(dev_classes,prediciton)"
   ]
  },
  {
   "cell_type": "code",
   "execution_count": 21,
   "metadata": {
    "collapsed": false
   },
   "outputs": [
    {
     "name": "stdout",
     "output_type": "stream",
     "text": [
      "the (alpha, accuracy) pairs in LogisticRegression:\n",
      "(0.1, 0.72599999999999998)\n",
      "(0.2, 0.73099999999999998)\n",
      "(0.30000000000000004, 0.73199999999999998)\n",
      "(0.4, 0.73499999999999999)\n",
      "(0.5, 0.73499999999999999)\n",
      "(0.6000000000000001, 0.73799999999999999)\n",
      "(0.7000000000000001, 0.73399999999999999)\n",
      "(0.8, 0.73799999999999999)\n",
      "(0.9, 0.73699999999999999)\n",
      "(1.0, 0.73699999999999999)\n",
      "(1.1, 0.73599999999999999)\n",
      "(1.2000000000000002, 0.73599999999999999)\n",
      "(1.3, 0.73699999999999999)\n",
      "(1.4000000000000001, 0.73499999999999999)\n",
      "(1.5, 0.73699999999999999)\n",
      "(1.6, 0.73799999999999999)\n",
      "(1.7000000000000002, 0.73899999999999999)\n",
      "(1.8, 0.73799999999999999)\n",
      "(1.9000000000000001, 0.73799999999999999)\n",
      "(2.0, 0.73799999999999999)\n",
      "(2.1, 0.73799999999999999)\n",
      "(2.2, 0.74099999999999999)\n",
      "(2.3000000000000003, 0.74099999999999999)\n",
      "(2.4000000000000004, 0.74099999999999999)\n",
      "(2.5, 0.74099999999999999)\n",
      "(2.6, 0.73899999999999999)\n",
      "(2.7, 0.73899999999999999)\n",
      "(2.8000000000000003, 0.73899999999999999)\n",
      "(2.9000000000000004, 0.73899999999999999)\n"
     ]
    }
   ],
   "source": [
    "print \"the (alpha, accuracy) pairs in LogisticRegression:\"\n",
    "best_accuracy = 0.0\n",
    "best_C = 0.0\n",
    "for C_value in range(1,30):\n",
    "    clf1 = LogisticRegression(C=C_value*0.1)\n",
    "    clf1.fit(twitter_train, train_classes)\n",
    "    prediciton1 = clf1.predict(twitter_dev)\n",
    "    accuracy = accuracy_score(dev_classes,prediciton1)\n",
    "    if accuracy > best_accuracy:\n",
    "        best_accuracy = accuracy\n",
    "        best_C = C_value*0.1\n",
    "    print (C_value*0.1, accuracy)\n"
   ]
  },
  {
   "cell_type": "code",
   "execution_count": 22,
   "metadata": {
    "collapsed": false
   },
   "outputs": [
    {
     "name": "stdout",
     "output_type": "stream",
     "text": [
      "the best C value in LogisticRegression is2.2 with accuracy:\n",
      "0.741\n"
     ]
    }
   ],
   "source": [
    "clf1 = LogisticRegression(C = best_C)\n",
    "clf1.fit(twitter_train, train_classes)\n",
    "prediciton1 = clf1.predict(twitter_dev)\n",
    "print \"the best C value in LogisticRegression is\"+str(best_C)+ \" with accuracy:\" \n",
    "print accuracy_score(dev_classes,prediciton1)"
   ]
  },
  {
   "cell_type": "markdown",
   "metadata": {},
   "source": [
    "<b>Instructions</b>: Using the best settings you have found, compare the two classifiers based on performance in the test set. Print out both accuracy and macroaveraged f-score for each classifier. Be sure to label your output. (0.5)"
   ]
  },
  {
   "cell_type": "code",
   "execution_count": 23,
   "metadata": {
    "collapsed": true
   },
   "outputs": [],
   "source": [
    "from sklearn.metrics import f1_score"
   ]
  },
  {
   "cell_type": "code",
   "execution_count": 24,
   "metadata": {
    "collapsed": false
   },
   "outputs": [
    {
     "name": "stdout",
     "output_type": "stream",
     "text": [
      "the best MultinomialNB accuracy:\n",
      "0.737\n",
      "f1_score:\n",
      "0.736978695274\n"
     ]
    }
   ],
   "source": [
    "clf = MultinomialNB(alpha=best_alpha)\n",
    "clf.fit(twitter_train, train_classes)\n",
    "prediciton = clf.predict(twitter_test)\n",
    "print \"the best MultinomialNB accuracy:\"\n",
    "print accuracy_score(test_classes,prediciton)\n",
    "print \"f1_score:\"\n",
    "print f1_score(test_classes,prediciton, average='macro')  "
   ]
  },
  {
   "cell_type": "code",
   "execution_count": 25,
   "metadata": {
    "collapsed": false
   },
   "outputs": [
    {
     "name": "stdout",
     "output_type": "stream",
     "text": [
      "the best LogisticRegression accuracy:\n",
      "0.73\n",
      "f1_score:\n",
      "0.729723236594\n"
     ]
    }
   ],
   "source": [
    "clf1 = LogisticRegression(C=best_C)\n",
    "clf1.fit(twitter_train, train_classes)\n",
    "prediciton1 = clf1.predict(twitter_test)\n",
    "print \"the best LogisticRegression accuracy:\"\n",
    "print accuracy_score(test_classes,prediciton1)\n",
    "print \"f1_score:\"\n",
    "print f1_score(test_classes,prediciton1, average='macro')  "
   ]
  },
  {
   "cell_type": "code",
   "execution_count": null,
   "metadata": {
    "collapsed": true
   },
   "outputs": [],
   "source": []
  }
 ],
 "metadata": {
  "anaconda-cloud": {},
  "kernelspec": {
   "display_name": "Python 2",
   "language": "python",
   "name": "python2"
  },
  "language_info": {
   "codemirror_mode": {
    "name": "ipython",
    "version": 2
   },
   "file_extension": ".py",
   "mimetype": "text/x-python",
   "name": "python",
   "nbconvert_exporter": "python",
   "pygments_lexer": "ipython2",
   "version": "2.7.13"
  }
 },
 "nbformat": 4,
 "nbformat_minor": 0
}
