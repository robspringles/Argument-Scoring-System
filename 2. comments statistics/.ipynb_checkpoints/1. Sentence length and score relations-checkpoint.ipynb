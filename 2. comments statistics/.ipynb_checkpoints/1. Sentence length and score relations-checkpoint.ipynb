{
 "cells": [
  {
   "cell_type": "markdown",
   "metadata": {},
   "source": [
    "## load comments data"
   ]
  },
  {
   "cell_type": "code",
   "execution_count": 1,
   "metadata": {
    "collapsed": true
   },
   "outputs": [],
   "source": [
    "import pandas as pd \n",
    "import numpy as np"
   ]
  },
  {
   "cell_type": "code",
   "execution_count": 2,
   "metadata": {
    "collapsed": true
   },
   "outputs": [],
   "source": [
    "path = '/Users/apple/Documents/GitHub/Argument-Scoring-System/comment_data/comments.csv'"
   ]
  },
  {
   "cell_type": "code",
   "execution_count": 9,
   "metadata": {
    "collapsed": true
   },
   "outputs": [],
   "source": [
    "data = pd.read_csv(path)\n",
    "text = data['comment_text']\n",
    "score = data['mean_evaluation']\n",
    "issue_titile = data['issue_title']"
   ]
  },
  {
   "cell_type": "code",
   "execution_count": 24,
   "metadata": {
    "collapsed": false
   },
   "outputs": [
    {
     "name": "stdout",
     "output_type": "stream",
     "text": [
      "Negative gearing may have seemed like a good idea when it was first introduced, but it has become little more than a massive rort.  The only reason we still have it after its problems have been pointed out so often is that politicians are under the thumb of the 20% who do most of the negative gearing and have the power to scream the loudest come election time.  It has no place in a just and efficient economic system.  \n"
     ]
    }
   ],
   "source": [
    "print (text[0])"
   ]
  },
  {
   "cell_type": "code",
   "execution_count": 11,
   "metadata": {
    "collapsed": false
   },
   "outputs": [],
   "source": [
    "# issue_titile"
   ]
  },
  {
   "cell_type": "markdown",
   "metadata": {},
   "source": [
    "## count the number of sentences"
   ]
  },
  {
   "cell_type": "code",
   "execution_count": 16,
   "metadata": {
    "collapsed": true
   },
   "outputs": [],
   "source": [
    "import nltk\n",
    "# Function 4: Number of sentence\n",
    "def get_sent_number(text):\n",
    "    '''\n",
    "    Get the number of sentences in the text\n",
    "    :param text: the raw text\n",
    "    :return: the number of sentences \n",
    "    Example: \n",
    "            print (get_sent_number(\"This is number one. This ise number2, and number 2.\"))\n",
    "    '''\n",
    "    return len(nltk.sent_tokenize(text))"
   ]
  },
  {
   "cell_type": "code",
   "execution_count": 35,
   "metadata": {
    "collapsed": true
   },
   "outputs": [],
   "source": [
    "def get_para_number(text):\n",
    "    '''\n",
    "    Get the number of paragraphs.\n",
    "    :param text: the raw text.\n",
    "    :return: the number of paragraphs.\n",
    "    Example: \n",
    "            s = \"This is first. this is first. \\n This is sencond. \\n\\n this is third.\" \\\n",
    "            print (get_para_number(s))\n",
    "    '''\n",
    "    paraList = text.splitlines()\n",
    "    paraList[:] = [element for element in paraList if element != \"\"]\n",
    "    return  paraList"
   ]
  },
  {
   "cell_type": "code",
   "execution_count": null,
   "metadata": {
    "collapsed": true
   },
   "outputs": [],
   "source": [
    "def get_sents_numbser(text):\n",
    "    paraList = get_para_number(text)\n",
    "    sum_sent = 0\n",
    "    for item in paraList:\n",
    "        sum_sent = sum_sent + get_sent_number(item)\n",
    "    return sum_sent"
   ]
  },
  {
   "cell_type": "markdown",
   "metadata": {},
   "source": [
    "## high sents number and low score comments"
   ]
  },
  {
   "cell_type": "code",
   "execution_count": 18,
   "metadata": {
    "collapsed": true
   },
   "outputs": [],
   "source": [
    "sent_number = [get_sent_number(item) for item in text]"
   ]
  },
  {
   "cell_type": "code",
   "execution_count": 19,
   "metadata": {
    "collapsed": false
   },
   "outputs": [
    {
     "name": "stdout",
     "output_type": "stream",
     "text": [
      "[3, 5, 2, 5, 3, 3, 7, 5, 5, 3]\n"
     ]
    }
   ],
   "source": [
    "print (sent_number[0:10])"
   ]
  },
  {
   "cell_type": "code",
   "execution_count": 25,
   "metadata": {
    "collapsed": true
   },
   "outputs": [],
   "source": [
    "bad_comments = []\n",
    "bad_title = []\n",
    "bad_score = []\n",
    "for i in range(len(sent_number)):\n",
    "    if sent_number[i] >= 5 and score[i]<4:\n",
    "        bad_comments.append(text[i])\n",
    "        bad_title.append(issue_titile[i])\n",
    "        bad_score.append(score[i])"
   ]
  },
  {
   "cell_type": "code",
   "execution_count": 29,
   "metadata": {
    "collapsed": false
   },
   "outputs": [],
   "source": [
    "# for i in range(10):\n",
    "#     print (bad_title[i])\n",
    "#     print (bad_comments[i])\n",
    "#     print (bad_score[i])\n",
    "#     print ('-----')"
   ]
  },
  {
   "cell_type": "markdown",
   "metadata": {},
   "source": [
    "## low sent number but high score comments"
   ]
  },
  {
   "cell_type": "code",
   "execution_count": 30,
   "metadata": {
    "collapsed": true
   },
   "outputs": [],
   "source": [
    "good_comments = []\n",
    "good_title = []\n",
    "good_score = []\n",
    "\n",
    "for i in range(len(sent_number)):\n",
    "    if sent_number[i] < 5 and score[i] >=5:\n",
    "        good_comments.append(text[i])\n",
    "        good_title.append(issue_titile[i])\n",
    "        good_score.append(score[i])"
   ]
  },
  {
   "cell_type": "code",
   "execution_count": 32,
   "metadata": {
    "collapsed": false
   },
   "outputs": [
    {
     "name": "stdout",
     "output_type": "stream",
     "text": [
      "332\n"
     ]
    }
   ],
   "source": [
    "print (len(good_comments))\n",
    "print "
   ]
  },
  {
   "cell_type": "code",
   "execution_count": 33,
   "metadata": {
    "collapsed": false
   },
   "outputs": [],
   "source": [
    "# for i in range(10):\n",
    "#     print (good_title[i])\n",
    "#     print (good_comments[i])\n",
    "#     print (good_score[i])\n",
    "#     print ('-----')"
   ]
  },
  {
   "cell_type": "code",
   "execution_count": 34,
   "metadata": {
    "collapsed": false
   },
   "outputs": [
    {
     "name": "stdout",
     "output_type": "stream",
     "text": [
      "4\n"
     ]
    }
   ],
   "source": [
    "print (get_sent_number(good_comments[0]))"
   ]
  },
  {
   "cell_type": "code",
   "execution_count": null,
   "metadata": {
    "collapsed": true
   },
   "outputs": [],
   "source": []
  },
  {
   "cell_type": "code",
   "execution_count": null,
   "metadata": {
    "collapsed": true
   },
   "outputs": [],
   "source": []
  }
 ],
 "metadata": {
  "kernelspec": {
   "display_name": "Python 3",
   "language": "python",
   "name": "python3"
  },
  "language_info": {
   "codemirror_mode": {
    "name": "ipython",
    "version": 3
   },
   "file_extension": ".py",
   "mimetype": "text/x-python",
   "name": "python",
   "nbconvert_exporter": "python",
   "pygments_lexer": "ipython3",
   "version": "3.5.0"
  }
 },
 "nbformat": 4,
 "nbformat_minor": 0
}
