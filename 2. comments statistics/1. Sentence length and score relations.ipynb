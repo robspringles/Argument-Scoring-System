{
 "cells": [
  {
   "cell_type": "markdown",
   "metadata": {},
   "source": [
    "## load comments data"
   ]
  },
  {
   "cell_type": "code",
   "execution_count": 1,
   "metadata": {
    "collapsed": true
   },
   "outputs": [],
   "source": [
    "import pandas as pd \n",
    "import numpy as np"
   ]
  },
  {
   "cell_type": "code",
   "execution_count": 2,
   "metadata": {
    "collapsed": true
   },
   "outputs": [],
   "source": [
    "path = '/Users/apple/Documents/GitHub/Argument-Scoring-System/comment_data/comments.csv'"
   ]
  },
  {
   "cell_type": "code",
   "execution_count": 3,
   "metadata": {
    "collapsed": true
   },
   "outputs": [],
   "source": [
    "data = pd.read_csv(path)\n",
    "text = data['comment_text']\n",
    "score = data['mean_evaluation']\n",
    "issue_titile = data['issue_title']\n",
    "stance = data['commenter_position']"
   ]
  },
  {
   "cell_type": "code",
   "execution_count": 4,
   "metadata": {
    "collapsed": false
   },
   "outputs": [
    {
     "name": "stdout",
     "output_type": "stream",
     "text": [
      "Negative gearing may have seemed like a good idea when it was first introduced, but it has become little more than a massive rort.  The only reason we still have it after its problems have been pointed out so often is that politicians are under the thumb of the 20% who do most of the negative gearing and have the power to scream the loudest come election time.  It has no place in a just and efficient economic system.  \n"
     ]
    }
   ],
   "source": [
    "print (text[0])"
   ]
  },
  {
   "cell_type": "code",
   "execution_count": 5,
   "metadata": {
    "collapsed": false
   },
   "outputs": [],
   "source": [
    "# issue_titile"
   ]
  },
  {
   "cell_type": "markdown",
   "metadata": {},
   "source": [
    "## count the number of sentences"
   ]
  },
  {
   "cell_type": "code",
   "execution_count": 6,
   "metadata": {
    "collapsed": true
   },
   "outputs": [],
   "source": [
    "import nltk\n",
    "def get_sent_number(text):\n",
    "    '''\n",
    "    Get the number of sentences in the text\n",
    "    :param text: the raw text\n",
    "    :return: the number of sentences \n",
    "    Example: \n",
    "            print (get_sent_number(\"This is number one. This ise number2, and number 2.\"))\n",
    "    '''\n",
    "    return len(nltk.sent_tokenize(text))"
   ]
  },
  {
   "cell_type": "code",
   "execution_count": 7,
   "metadata": {
    "collapsed": true
   },
   "outputs": [],
   "source": [
    "def get_sents_number(text):\n",
    "    paraList = text.splitlines()\n",
    "    paraList[:] = [element for element in paraList if element != \"\"]\n",
    "    sum_sent = 0\n",
    "    for item in paraList:\n",
    "        sum_sent = sum_sent + get_sent_number(item)\n",
    "    return sum_sent"
   ]
  },
  {
   "cell_type": "markdown",
   "metadata": {},
   "source": [
    "## high sents number and low score comments"
   ]
  },
  {
   "cell_type": "code",
   "execution_count": 8,
   "metadata": {
    "collapsed": false
   },
   "outputs": [],
   "source": [
    "sent_number = [get_sents_number(item) for item in text]"
   ]
  },
  {
   "cell_type": "code",
   "execution_count": 9,
   "metadata": {
    "collapsed": false
   },
   "outputs": [
    {
     "name": "stdout",
     "output_type": "stream",
     "text": [
      "[3, 5, 2, 5, 3, 3, 7, 5, 5, 5]\n"
     ]
    }
   ],
   "source": [
    "print (sent_number[0:10])"
   ]
  },
  {
   "cell_type": "code",
   "execution_count": 10,
   "metadata": {
    "collapsed": false
   },
   "outputs": [],
   "source": [
    "bad_comments = []\n",
    "bad_title = []\n",
    "bad_score = []\n",
    "bad_stance = []\n",
    "for i in range(len(sent_number)):\n",
    "    if sent_number[i] >= 5 and score[i]<4:\n",
    "        bad_comments.append(text[i])\n",
    "        bad_title.append(issue_titile[i])\n",
    "        bad_score.append(score[i])\n",
    "        bad_stance.append(stance[i])"
   ]
  },
  {
   "cell_type": "code",
   "execution_count": 11,
   "metadata": {
    "collapsed": false
   },
   "outputs": [
    {
     "name": "stdout",
     "output_type": "stream",
     "text": [
      "260\n"
     ]
    }
   ],
   "source": [
    "print (len(bad_title))"
   ]
  },
  {
   "cell_type": "markdown",
   "metadata": {},
   "source": [
    "长却得分低：\n",
    "* 有歧视性内容\n",
    "* 离题\n"
   ]
  },
  {
   "cell_type": "code",
   "execution_count": 12,
   "metadata": {
    "collapsed": false
   },
   "outputs": [],
   "source": [
    "# for i in range(100, 260):\n",
    "#     print (bad_title[i])\n",
    "#     print (bad_comments[i])\n",
    "#     print (bad_score[i])\n",
    "#     print (bad_stance[i])\n",
    "#     print ('-----')"
   ]
  },
  {
   "cell_type": "markdown",
   "metadata": {},
   "source": [
    "## low sent number but high score comments"
   ]
  },
  {
   "cell_type": "code",
   "execution_count": 13,
   "metadata": {
    "collapsed": false
   },
   "outputs": [],
   "source": [
    "good_comments = []\n",
    "good_title = []\n",
    "good_score = []\n",
    "\n",
    "for i in range(len(sent_number)):\n",
    "    if sent_number[i] < 5 and score[i] >=5:\n",
    "        good_comments.append(text[i])\n",
    "        good_title.append(issue_titile[i])\n",
    "        good_score.append(score[i])"
   ]
  },
  {
   "cell_type": "code",
   "execution_count": 14,
   "metadata": {
    "collapsed": false
   },
   "outputs": [
    {
     "name": "stdout",
     "output_type": "stream",
     "text": [
      "316\n"
     ]
    },
    {
     "data": {
      "text/plain": [
       "<function print>"
      ]
     },
     "execution_count": 14,
     "metadata": {},
     "output_type": "execute_result"
    }
   ],
   "source": [
    "print (len(good_comments))\n",
    "print "
   ]
  },
  {
   "cell_type": "markdown",
   "metadata": {},
   "source": [
    "短却得分高的原因：\n",
    "* 有反问句。\n",
    "* 有链接进行说明\n"
   ]
  },
  {
   "cell_type": "code",
   "execution_count": 15,
   "metadata": {
    "collapsed": false
   },
   "outputs": [],
   "source": [
    "# for i in range(100, 316):\n",
    "#     print (good_title[i])\n",
    "#     print (good_comments[i])\n",
    "#     print (good_score[i])\n",
    "#     print ('-----')"
   ]
  },
  {
   "cell_type": "code",
   "execution_count": 16,
   "metadata": {
    "collapsed": false
   },
   "outputs": [],
   "source": [
    "# test =  set(bad_title)\n",
    "# print (len(test))\n",
    "# for item in test:\n",
    "#     print (item)"
   ]
  },
  {
   "cell_type": "markdown",
   "metadata": {},
   "source": [
    "# analyzing comments, based on score"
   ]
  },
  {
   "cell_type": "code",
   "execution_count": 17,
   "metadata": {
    "collapsed": true
   },
   "outputs": [],
   "source": [
    "# text = data['comment_text']\n",
    "# score = data['mean_evaluation']\n",
    "# issue_titile = data['issue_title']\n",
    "# stance = data['commenter_position']"
   ]
  },
  {
   "cell_type": "code",
   "execution_count": 18,
   "metadata": {
    "collapsed": true
   },
   "outputs": [],
   "source": [
    "from collections import defaultdict"
   ]
  },
  {
   "cell_type": "code",
   "execution_count": 19,
   "metadata": {
    "collapsed": false
   },
   "outputs": [],
   "source": [
    "comments1 = []\n",
    "titles1 = []\n",
    "stance1 = []\n",
    "for i in range(len(text)):\n",
    "    if score[i] == 2:\n",
    "        comments1.append(text[i])\n",
    "        titles1.append(issue_titile[i])\n",
    "        stance1.append(stance[i])"
   ]
  },
  {
   "cell_type": "code",
   "execution_count": 20,
   "metadata": {
    "collapsed": false
   },
   "outputs": [],
   "source": [
    "# for i in range(len(comments1)):\n",
    "#     print (titles1[i])\n",
    "#     print (comments1[i])\n",
    "#     print (stance1[i])\n",
    "#     print (\"----\")"
   ]
  },
  {
   "cell_type": "markdown",
   "metadata": {},
   "source": [
    "很多基本立场看起来是不对的，比如对于同性恋，反对得到的结果都是低分的。 "
   ]
  },
  {
   "cell_type": "markdown",
   "metadata": {},
   "source": [
    "## analyzing the data based on title"
   ]
  },
  {
   "cell_type": "code",
   "execution_count": 21,
   "metadata": {
    "collapsed": true
   },
   "outputs": [],
   "source": [
    "data = pd.read_csv(path)\n",
    "text = data['comment_text']\n",
    "score = data['mean_evaluation']\n",
    "issue_titile = data['issue_title']\n",
    "stance = data['commenter_position']"
   ]
  },
  {
   "cell_type": "code",
   "execution_count": 110,
   "metadata": {
    "collapsed": false
   },
   "outputs": [
    {
     "name": "stdout",
     "output_type": "stream",
     "text": [
      "--- There are 77 titles in the dataset ---\n"
     ]
    }
   ],
   "source": [
    "titles = set(issue_titile)\n",
    "print (\"--- There are \" + str(len(titles))+ \" titles in the dataset ---\")\n",
    "\n",
    "# for item in titles:\n",
    "#     print (item) "
   ]
  },
  {
   "cell_type": "code",
   "execution_count": null,
   "metadata": {
    "collapsed": false
   },
   "outputs": [],
   "source": []
  },
  {
   "cell_type": "code",
   "execution_count": null,
   "metadata": {
    "collapsed": false
   },
   "outputs": [],
   "source": []
  },
  {
   "cell_type": "code",
   "execution_count": 23,
   "metadata": {
    "collapsed": false
   },
   "outputs": [],
   "source": [
    "title_num = []\n",
    "for t in set(issue_titile):\n",
    "    title_num.append(len(data.loc[data['issue_title'] == t]))\n",
    "\n",
    "title_num = np.array(title_num)"
   ]
  },
  {
   "cell_type": "code",
   "execution_count": 24,
   "metadata": {
    "collapsed": false
   },
   "outputs": [],
   "source": [
    "# frequency of the number of comments for each title\n",
    "from itertools import groupby\n",
    "freq = {key:len(list(group)) for key, group in groupby(np.sort(title_num))}\n",
    "# print (title_num.max())"
   ]
  },
  {
   "cell_type": "code",
   "execution_count": 25,
   "metadata": {
    "collapsed": false
   },
   "outputs": [
    {
     "name": "stdout",
     "output_type": "stream",
     "text": [
      "2868\n"
     ]
    }
   ],
   "source": [
    "print (sum(title_num))"
   ]
  },
  {
   "cell_type": "code",
   "execution_count": 112,
   "metadata": {
    "collapsed": false
   },
   "outputs": [
    {
     "name": "stdout",
     "output_type": "stream",
     "text": [
      "2\n"
     ]
    }
   ],
   "source": [
    "# build dic based on the title\n",
    "s = 'Accepting more migrants meets our moral obligation to assist people in need.'\n",
    "new_data = data.loc[data['issue_title'] == s]\n",
    "print (len(new_data))\n",
    "# print (new_data[['comment_text', 'mean_evaluation','commenter_position','type']].values)"
   ]
  },
  {
   "cell_type": "code",
   "execution_count": null,
   "metadata": {
    "collapsed": false
   },
   "outputs": [],
   "source": []
  },
  {
   "cell_type": "code",
   "execution_count": null,
   "metadata": {
    "collapsed": true
   },
   "outputs": [],
   "source": []
  }
 ],
 "metadata": {
  "kernelspec": {
   "display_name": "Python 3",
   "language": "python",
   "name": "python3"
  },
  "language_info": {
   "codemirror_mode": {
    "name": "ipython",
    "version": 3
   },
   "file_extension": ".py",
   "mimetype": "text/x-python",
   "name": "python",
   "nbconvert_exporter": "python",
   "pygments_lexer": "ipython3",
   "version": "3.5.0"
  }
 },
 "nbformat": 4,
 "nbformat_minor": 0
}
